{
 "cells": [
  {
   "cell_type": "markdown",
   "metadata": {
    "slideshow": {
     "slide_type": "slide"
    }
   },
   "source": [
    "# Integrating GPU libraries for fun and profit\n",
    "\n",
    "### ...on extending and interfacing HPC simulation tools\n",
    "\n",
    "##### Authors: Adrian Oeftiger and Martin Schwinzerl"
   ]
  },
  {
   "cell_type": "markdown",
   "metadata": {
    "slideshow": {
     "slide_type": "slide"
    }
   },
   "source": [
    "# Abstract\n",
    "\n",
    "I have a high-performance number crunching tool with cool physics which simulates long-term on a GPU &ndash; how can I extend the inner loop by further cool physics, injected from the outside?\n",
    "In python this should be easy, right? But wait... we are sitting on device memory?\n",
    "\n",
    "In this talk we explore how to tightly couple two libraries for high-performance computation of long-term beam dynamics, `SixTrackLib` and `PyHEADTAIL`. How can we design the _interface_ between both libraries in terms of\n",
    "\n",
    "(1) remaining on the python level,\n",
    "\n",
    "(2) avoid losing performance due to device-to-host-to-device copies, and\n",
    "\n",
    "(3) keeping both libraries as stand-alone packages?\n",
    "\n",
    "The interface can be surprisingly simple, yet fully fledged... Let's go!"
   ]
  },
  {
   "cell_type": "markdown",
   "metadata": {
    "slideshow": {
     "slide_type": "slide"
    }
   },
   "source": [
    "# ... the physics ..."
   ]
  },
  {
   "cell_type": "markdown",
   "metadata": {
    "slideshow": {
     "slide_type": "slide"
    }
   },
   "source": [
    "# Collective beam dynamics\n",
    "\n",
    "3D particle motion $\\leadsto$ 6 phase space coordinates:\n",
    "$$\\mathbb{X}=(\\underbrace{x, x'\\vphantom{y'}}_{horizontal}, \\underbrace{y, y'}_{vertical}, \\underbrace{z, \\delta\\vphantom{y'}}_{longitudinal})$$\n",
    "\n",
    "A beam $=$ state of $N$ macro-particles $=$ $6N$ values of phase space coordinates"
   ]
  },
  {
   "cell_type": "markdown",
   "metadata": {
    "slideshow": {
     "slide_type": "fragment"
    }
   },
   "source": [
    "## Simulations:\n",
    "* typically up to $\\mathcal{O}(10^6)$ macro-particles\n",
    "* accelerator elements to track through: up to $\\mathcal{O}(1000)$\n",
    "* simulations can last up to $\\mathcal{O}(10^6)$ turns \n",
    "* particle-to-particle interaction: binning, FFT, convolution, particle-in-cell, Poisson solvers"
   ]
  },
  {
   "cell_type": "markdown",
   "metadata": {
    "slideshow": {
     "slide_type": "slide"
    }
   },
   "source": [
    "# Requirements for simulation tools\n",
    "\n",
    "* long-term evolution $\\leadsto$ **double precision**\n",
    "* heavy **number crunching** $\\leadsto$ high-performance computing (**HPC**)<br />(in particular for _collective effects_ i.e. particle-to-particle interaction)\n",
    "* **iterative development**, frequent update of accelerator models $\\leadsto$ python"
   ]
  },
  {
   "cell_type": "markdown",
   "metadata": {
    "slideshow": {
     "slide_type": "slide"
    }
   },
   "source": [
    "# Single-particle vs. multi-particle dynamics\n",
    "\n",
    "**single-particle** $\\implies$ <span style=\"color:#00aad4;\">\"tracking\"</span>: particle motion due to external focusing (magnets and RF cavities)\n",
    "\n",
    "**multi-particle** $\\implies$ <span style=\"color:#aa0000;\">\"collective effect kicks\"</span>: direct and indirect particle-to-particle interaction\n",
    "\n",
    "<center>\n",
    "<img src=\"images/transverse-model_empty.png\" alt=\"sketch of one-turn map for ring\" style=\"width:30%;\"/>\n",
    "Tracking around the accelerator ring\n",
    "</center>"
   ]
  },
  {
   "cell_type": "markdown",
   "metadata": {
    "slideshow": {
     "slide_type": "slide"
    }
   },
   "source": [
    "# The `PyHEADTAIL` library\n",
    "\n",
    "Python based code for simulating collective beam dynamics: [github repo $\\nearrow$](https://github.com/PyCOMPLETE/PyHEADTAIL)\n",
    "\n",
    "$\\implies$ simplified matrix-based <span style=\"color:#00aad4;\">tracking</span>\n",
    "\n",
    "$\\implies$ **strong:** detailed models for <span style=\"color:#aa0000;\">collective effect kicks</span>\n",
    "\n",
    "<center>\n",
    "<img src=\"images/wakefield.png\" alt=\"wake field sketch\" style=\"width:30%;\"/>\n",
    "Example for a kick: wakefield induced by leading particles imparting kicks on trailing particles\n",
    "</center>"
   ]
  },
  {
   "cell_type": "markdown",
   "metadata": {
    "slideshow": {
     "slide_type": "slide"
    }
   },
   "source": [
    "# The `SixTrackLib` library\n",
    "\n",
    "C templated code with Python API for simulating single-particle beam dynamics: [github repo $\\nearrow$](https://github.com/sixtrack/sixtracklib)\n",
    "\n",
    "$\\implies$ **strong:** advanced non-linear <span style=\"color:#00aad4;\">tracking</span>\n",
    "\n",
    "$\\implies$ approximative / simplified models for <span style=\"color:#aa0000;\">collective effect kicks</span>\n",
    "\n",
    "<center>\n",
    "<img src=\"images/tracking.png\" alt=\"tracking sketch\" style=\"width:30%;\"/>\n",
    "Example for tracking: <span style=\"color:#ff6701;\">dipole magnets bend</span> and <span style=\"color:#800000;\">quadrupole magnets (de-)</span><span style=\"color:#000080;\">focus</span> particles\n",
    "</center>"
   ]
  },
  {
   "cell_type": "markdown",
   "metadata": {
    "slideshow": {
     "slide_type": "slide"
    }
   },
   "source": [
    "# ... the HPC part ..."
   ]
  },
  {
   "cell_type": "markdown",
   "metadata": {
    "slideshow": {
     "slide_type": "slide"
    }
   },
   "source": [
    "# `PyHEADTAIL` on the GPU\n",
    "\n",
    "[Concept presented on PyHEP'19 $\\nearrow$](https://indico.cern.ch/event/833895/contributions/3577801/), in short:\n",
    "\n",
    "<div style=\"float: right; width: 10%\">\n",
    "<img src=\"images/duck.png\" alt=\"duck typing\" style=\"width: 100%;\" /> <br />\n",
    "<!-- <img src=\"pycuda-logo2.png\" alt=\"PyCUDA logo\" style=\"width: 100%;\" /> -->\n",
    "</div>\n",
    "\n",
    "* utilise **duck typing** to separate physics from back-end implementation\n",
    "* sandwich layer via **context management** and **function redirection**<br />(separate math dictionaries for CPU and GPU)\n",
    "* exploit GPU via `PyCUDA` (`CuPy` would work similarly)"
   ]
  },
  {
   "cell_type": "code",
   "execution_count": null,
   "metadata": {},
   "outputs": [],
   "source": [
    "# tracking loop in PyHEADTAIL:\n",
    "with GPU(pyht_beam):\n",
    "    for i in range(n_turns):\n",
    "        for element in pyht_ring_elements:\n",
    "            element.track(pyht_beam)"
   ]
  },
  {
   "cell_type": "markdown",
   "metadata": {},
   "source": [
    "$\\implies$ implement physics only once! <br />\n",
    "$\\implies$ back-end details transparent to users / high-level developers"
   ]
  },
  {
   "cell_type": "markdown",
   "metadata": {
    "slideshow": {
     "slide_type": "slide"
    }
   },
   "source": [
    "# `SixTrackLib` on the GPU\n",
    "\n",
    "[Concept presented on PyHEP'19 $\\nearrow$](https://indico.cern.ch/event/833895/contributions/3577803/), in short:\n",
    "\n",
    "* Python API for dynamic interaction\n",
    "* C **templating approach** to separate physics from back-end implementation\n",
    "    * implementation in usual C for (single-core) CPU\n",
    "    * implementation in openCL for multi-core CPU and GPU (AMD, NVIDIA)\n",
    "    * implementation in CUDA for NVIDIA GPUs"
   ]
  },
  {
   "cell_type": "code",
   "execution_count": null,
   "metadata": {},
   "outputs": [],
   "source": [
    "# tracking kernel in SixTrackLib\n",
    "trackjob = stl.TrackJob(stl_ring_elements, stl_beam, device='opencl:0.0')\n",
    "trackjob.track_until(n_turns)"
   ]
  },
  {
   "cell_type": "markdown",
   "metadata": {},
   "source": [
    "$\\implies$ implement physics only once! <br />\n",
    "$\\implies$ users launch \"trackjobs\" with just a single `device` keyword to switch architecture"
   ]
  },
  {
   "cell_type": "markdown",
   "metadata": {
    "slideshow": {
     "slide_type": "slide"
    }
   },
   "source": [
    "# ... the quest ..."
   ]
  },
  {
   "cell_type": "markdown",
   "metadata": {
    "slideshow": {
     "slide_type": "slide"
    }
   },
   "source": [
    "# `SixTrackLib` $+$ `PyHEADTAIL` $=$ <3 ?\n",
    "\n",
    "`SixTrackLib` $\\rightarrow$ strong in advanced non-linear <span style=\"color:#00aad4;\">tracking</span>\n",
    "\n",
    "`PyHEADTAIL` $\\rightarrow$ strong in <span style=\"color:#aa0000;\">collective effect kicks</span>\n",
    "\n",
    "$\\implies$ `SixTrackLib` $+$ `PyHEADTAIL` $=$ strong in both?"
   ]
  },
  {
   "cell_type": "markdown",
   "metadata": {
    "slideshow": {
     "slide_type": "fragment"
    }
   },
   "source": [
    "<center>\n",
    "<img src=\"images/transverse-model_integration.png\" alt=\"integrating PyHEADTAIL and SixTrackLib\" style=\"width:30%;\"/>\n",
    "Alternating SixTrackLib <span style=\"color:#00aad4;\">tracking</span> and PyHEADTAIL <span style=\"color:#aa0000;\">kicking</span>\n",
    "</center>"
   ]
  },
  {
   "cell_type": "markdown",
   "metadata": {
    "slideshow": {
     "slide_type": "slide"
    }
   },
   "source": [
    "# ... the quest*ions* ..."
   ]
  },
  {
   "cell_type": "markdown",
   "metadata": {
    "slideshow": {
     "slide_type": "slide"
    }
   },
   "source": [
    "Situation:\n",
    "* `PyHEADTAIL` on the GPU lives in `PyCUDA`, managed from user script\n",
    "* `SixTrackLib` on the GPU manages its CUDA kernel invocation by itself\n",
    "* beam state data: <br />`PyHEADTAIL` uses `PyCUDA.GPUArrays` while `SixTrackLib` uses custom memory buffers\n",
    "\n",
    "Critical aspects:\n",
    "* how to hand over the data between the two codes?\n",
    "* how to avoid GPU - CPU - GPU memory transfer?\n",
    "* can `PyHEADTAIL`'s `PyCUDA` context interact with `SixTrackLib`'s initialised context? \n",
    "    * visibility of memory to each other\n",
    "    * alternating kernel calls?\n",
    "    * flow control from python level?"
   ]
  },
  {
   "cell_type": "markdown",
   "metadata": {
    "slideshow": {
     "slide_type": "slide"
    }
   },
   "source": [
    "# ... example simulation with `PyHEADTAIL` ...\n",
    "\n",
    "## ... a head-tail instability in the future FAIR SIS100 synchrotron ..."
   ]
  },
  {
   "cell_type": "code",
   "execution_count": 1,
   "metadata": {
    "slideshow": {
     "slide_type": "slide"
    }
   },
   "outputs": [],
   "source": [
    "# set up plotting, pythonpath etc\n",
    "from imports import *"
   ]
  },
  {
   "cell_type": "markdown",
   "metadata": {},
   "source": [
    "Importing PyHEADTAIL:"
   ]
  },
  {
   "cell_type": "code",
   "execution_count": 2,
   "metadata": {
    "slideshow": {
     "slide_type": "-"
    }
   },
   "outputs": [
    {
     "name": "stdout",
     "output_type": "stream",
     "text": [
      "PyHEADTAIL v1.14.1.10\n",
      "\n",
      "\n"
     ]
    }
   ],
   "source": [
    "# initialise CUDA context for PyHEADTAIL via pycuda\n",
    "from pycuda.autoinit import context\n",
    "\n",
    "import PyHEADTAIL"
   ]
  },
  {
   "cell_type": "markdown",
   "metadata": {
    "slideshow": {
     "slide_type": "slide"
    }
   },
   "source": [
    "# Setting up <span style=\"color:#00aad4;\">tracking</span> around the SIS100 ring"
   ]
  },
  {
   "cell_type": "markdown",
   "metadata": {},
   "source": [
    "Transverse tracking:"
   ]
  },
  {
   "cell_type": "code",
   "execution_count": 3,
   "metadata": {
    "slideshow": {
     "slide_type": "-"
    }
   },
   "outputs": [],
   "source": [
    "from PyHEADTAIL.trackers.transverse_tracking import TransverseMap\n",
    "from PyHEADTAIL.trackers.detuners import Chromaticity\n",
    "\n",
    "from pyheadtail_setup import transverse_map_kwargs, Q_x, Q_y"
   ]
  },
  {
   "cell_type": "code",
   "execution_count": 4,
   "metadata": {
    "slideshow": {
     "slide_type": "-"
    }
   },
   "outputs": [],
   "source": [
    "transverse_map = TransverseMap(\n",
    "    detuners=[Chromaticity(Q_x, Q_y)],\n",
    "    **transverse_map_kwargs,\n",
    ")"
   ]
  },
  {
   "cell_type": "markdown",
   "metadata": {
    "slideshow": {
     "slide_type": "fragment"
    }
   },
   "source": [
    "Longitudinal tracking:"
   ]
  },
  {
   "cell_type": "code",
   "execution_count": 5,
   "metadata": {},
   "outputs": [],
   "source": [
    "from PyHEADTAIL.trackers.longitudinal_tracking import RFSystems\n",
    "\n",
    "from pyheadtail_setup import longitudinal_map_kwargs"
   ]
  },
  {
   "cell_type": "code",
   "execution_count": 6,
   "metadata": {},
   "outputs": [],
   "source": [
    "longitudinal_map = RFSystems(**longitudinal_map_kwargs)"
   ]
  },
  {
   "cell_type": "markdown",
   "metadata": {
    "slideshow": {
     "slide_type": "slide"
    }
   },
   "source": [
    "# Setting up <span style=\"color:#aa0000;\">collective effect kick</span>"
   ]
  },
  {
   "cell_type": "markdown",
   "metadata": {},
   "source": [
    "Simulate wakefields in bunch via broad-band resonator:"
   ]
  },
  {
   "cell_type": "code",
   "execution_count": 7,
   "metadata": {},
   "outputs": [],
   "source": [
    "from PyHEADTAIL.impedances.wakes import WakeField, ParallelHorizontalPlatesResonator\n",
    "from PyHEADTAIL.particles.slicing import UniformBinSlicer"
   ]
  },
  {
   "cell_type": "code",
   "execution_count": 8,
   "metadata": {},
   "outputs": [],
   "source": [
    "# responsible for binning the beam longitudinally:\n",
    "slicer = UniformBinSlicer(n_slices=70, n_sigma_z=4)\n",
    "\n",
    "# wakefield kick\n",
    "resonator_wake = ParallelHorizontalPlatesResonator(\n",
    "    R_shunt=7e6, frequency=1.5e9, Q=1,\n",
    ")\n",
    "wakefield = WakeField(slicer, resonator_wake)"
   ]
  },
  {
   "cell_type": "markdown",
   "metadata": {},
   "source": [
    "<center>\n",
    "<img src=\"images/wakefield.png\" alt=\"wake field sketch\" style=\"width:20%;\"/>\n",
    "</center>"
   ]
  },
  {
   "cell_type": "markdown",
   "metadata": {
    "slideshow": {
     "slide_type": "slide"
    }
   },
   "source": [
    "# Assembling the map around the SIS100 ring:"
   ]
  },
  {
   "cell_type": "code",
   "execution_count": 9,
   "metadata": {},
   "outputs": [],
   "source": [
    "pyht_ring_elements = list(transverse_map) + [longitudinal_map, wakefield]"
   ]
  },
  {
   "cell_type": "markdown",
   "metadata": {},
   "source": [
    "<center>\n",
    "    <img src=\"images/SIS100.jpg\" alt=\"SIS100 layout\" style=\"width: 40%;\" />\n",
    "</center>"
   ]
  },
  {
   "cell_type": "markdown",
   "metadata": {
    "slideshow": {
     "slide_type": "slide"
    }
   },
   "source": [
    "# Initialising the particle bunch"
   ]
  },
  {
   "cell_type": "markdown",
   "metadata": {},
   "source": [
    "6D Gaussian distribution:"
   ]
  },
  {
   "cell_type": "code",
   "execution_count": 10,
   "metadata": {},
   "outputs": [],
   "source": [
    "from PyHEADTAIL.particles.generators import generate_Gaussian6DTwiss\n",
    "\n",
    "from pyheadtail_setup import beam_kwargs"
   ]
  },
  {
   "cell_type": "code",
   "execution_count": 11,
   "metadata": {},
   "outputs": [],
   "source": [
    "n_macroparticles = 100000\n",
    "intensity = 6.25e10 * 2000\n",
    "\n",
    "np.random.seed(0)\n",
    "\n",
    "pyht_beam = generate_Gaussian6DTwiss(\n",
    "    macroparticlenumber=n_macroparticles,\n",
    "    intensity=intensity,\n",
    "    **beam_kwargs,\n",
    "    **transverse_map.get_injection_optics(\n",
    "        for_particle_generation=True),\n",
    ")"
   ]
  },
  {
   "cell_type": "markdown",
   "metadata": {
    "slideshow": {
     "slide_type": "slide"
    }
   },
   "source": [
    "Initial vertical bunch offset:"
   ]
  },
  {
   "cell_type": "code",
   "execution_count": 12,
   "metadata": {
    "slideshow": {
     "slide_type": "-"
    }
   },
   "outputs": [],
   "source": [
    "pyht_beam.y += 0.1 * pyht_beam.sigma_y()"
   ]
  },
  {
   "cell_type": "markdown",
   "metadata": {},
   "source": [
    "Storing a blueprint of the initial bunch state for later:"
   ]
  },
  {
   "cell_type": "code",
   "execution_count": 13,
   "metadata": {},
   "outputs": [],
   "source": [
    "slices0 = pyht_beam.get_slices(slicer, statistics=['mean_y'])"
   ]
  },
  {
   "cell_type": "markdown",
   "metadata": {
    "slideshow": {
     "slide_type": "slide"
    }
   },
   "source": [
    "# Let's go &ndash; simulating SIS100 in `PyHEADTAIL` on the GPU:"
   ]
  },
  {
   "cell_type": "code",
   "execution_count": 14,
   "metadata": {
    "slideshow": {
     "slide_type": "-"
    }
   },
   "outputs": [],
   "source": [
    "from PyHEADTAIL.general.contextmanager import CPU, GPU\n",
    "from PyHEADTAIL.general import pmath"
   ]
  },
  {
   "cell_type": "code",
   "execution_count": 15,
   "metadata": {},
   "outputs": [],
   "source": [
    "n_turns = 1000\n",
    "\n",
    "# transfer to GPU\n",
    "with GPU(pyht_beam):\n",
    "    my = pmath.zeros(n_turns, dtype=float)\n",
    "    \n",
    "    # loop over turns\n",
    "    for i in range(n_turns):\n",
    "        # loop over elements around ring\n",
    "        for element in pyht_ring_elements:\n",
    "            element.track(pyht_beam)\n",
    "\n",
    "        # record vertical bunch centroid amplitude\n",
    "        my[i] = pyht_beam.mean_y()"
   ]
  },
  {
   "cell_type": "code",
   "execution_count": 16,
   "metadata": {},
   "outputs": [],
   "source": [
    "my = pmath.ensure_CPU(my)"
   ]
  },
  {
   "cell_type": "markdown",
   "metadata": {
    "slideshow": {
     "slide_type": "slide"
    }
   },
   "source": [
    "# Outcome of our simulation?"
   ]
  },
  {
   "cell_type": "code",
   "execution_count": 17,
   "metadata": {},
   "outputs": [
    {
     "data": {
      "image/png": "[encoded data removed]",
      "text/plain": [
       "<Figure size 432x288 with 1 Axes>"
      ]
     },
     "metadata": {
      "needs_background": "light"
     },
     "output_type": "display_data"
    }
   ],
   "source": [
    "plt.plot(my * 1e3)\n",
    "plt.xlabel('Turns')\n",
    "plt.ylabel(r'$\\langle y \\rangle$ [mm]')\n",
    "plt.title('Vertical bunch centroid motion');"
   ]
  },
  {
   "cell_type": "markdown",
   "metadata": {},
   "source": [
    "$\\leadsto$ centre-of-mass of the bunch grows exponentially $\\implies$ head-tail instability!"
   ]
  },
  {
   "cell_type": "markdown",
   "metadata": {
    "slideshow": {
     "slide_type": "slide"
    }
   },
   "source": [
    "The head-tail instability develops along the bunch:"
   ]
  },
  {
   "cell_type": "code",
   "execution_count": 18,
   "metadata": {
    "slideshow": {
     "slide_type": "-"
    }
   },
   "outputs": [
    {
     "data": {
      "image/png": "[encoded data removed]",
      "text/plain": [
       "<Figure size 432x288 with 1 Axes>"
      ]
     },
     "metadata": {
      "needs_background": "light"
     },
     "output_type": "display_data"
    }
   ],
   "source": [
    "from imports import plot_intrabunch\n",
    "\n",
    "plot_intrabunch(pyht_ring_elements, pyht_beam, slicer, slices0)"
   ]
  },
  {
   "cell_type": "markdown",
   "metadata": {
    "slideshow": {
     "slide_type": "slide"
    }
   },
   "source": [
    "The SIS100 accelerator layout (\"lattice\") was simulated with a **simple matrix tracking** model in `PyHEADTAIL`. \n",
    "\n",
    "`SixTrackLib` can simulate the real lattice... shall we?"
   ]
  },
  {
   "cell_type": "markdown",
   "metadata": {
    "slideshow": {
     "slide_type": "slide"
    }
   },
   "source": [
    "# ... example simulation with `SixTrackLib` ...\n",
    "\n",
    "## ... tracking around the future FAIR SIS100 synchrotron ..."
   ]
  },
  {
   "cell_type": "markdown",
   "metadata": {
    "slideshow": {
     "slide_type": "slide"
    }
   },
   "source": [
    "Importing SixTrackLib:"
   ]
  },
  {
   "cell_type": "code",
   "execution_count": 19,
   "metadata": {
    "slideshow": {
     "slide_type": "-"
    }
   },
   "outputs": [],
   "source": [
    "import sixtracklib as stl"
   ]
  },
  {
   "cell_type": "code",
   "execution_count": 20,
   "metadata": {
    "slideshow": {
     "slide_type": "-"
    }
   },
   "outputs": [
    {
     "name": "stdout",
     "output_type": "stream",
     "text": [
      "SixTrackLib commit 947643d56dd16b0106f9efd71510053bceef8c2d\r\n"
     ]
    }
   ],
   "source": [
    "# in absence of versioning, print current git commit for reference\n",
    "import os\n",
    "stl_dir = os.path.dirname(stl.__file__)\n",
    "!printf \"SixTrackLib \" && cd $stl_dir && git log | head -1"
   ]
  },
  {
   "cell_type": "code",
   "execution_count": 21,
   "metadata": {},
   "outputs": [],
   "source": [
    "from cpymad.madx import Madx"
   ]
  },
  {
   "cell_type": "code",
   "execution_count": 22,
   "metadata": {},
   "outputs": [
    {
     "name": "stdout",
     "output_type": "stream",
     "text": [
      "\n",
      "  ++++++++++++++++++++++++++++++++++++++++++++\n",
      "  +     MAD-X 5.05.01  (64 bit, Linux)       +\n",
      "  + Support: mad@cern.ch, http://cern.ch/mad +\n",
      "  + Release   date: 2019.06.07               +\n",
      "  + Execution date: 2020.07.15 19:08:33      +\n",
      "  ++++++++++++++++++++++++++++++++++++++++++++\n"
     ]
    }
   ],
   "source": [
    "madx = Madx()\n",
    "madx.options.echo = False\n",
    "madx.options.warn = False\n",
    "madx.options.info = False"
   ]
  },
  {
   "cell_type": "code",
   "execution_count": 23,
   "metadata": {},
   "outputs": [],
   "source": [
    "madx.call('./SIS100RING_220618_AllCold.seq')"
   ]
  },
  {
   "cell_type": "code",
   "execution_count": 24,
   "metadata": {},
   "outputs": [
    {
     "data": {
      "text/plain": [
       "True"
      ]
     },
     "execution_count": 24,
     "metadata": {},
     "output_type": "execute_result"
    }
   ],
   "source": [
    "madx.input('''\n",
    "kqd := -0.2798446835; ! 18.84, 18.73 tune\n",
    "kqf := 0.2809756135;\n",
    "\n",
    "K1NL_S00QD1D :=  kqd ;\n",
    "K1NL_S00QD1F :=  kqf ;\n",
    "K1NL_S00QD2F :=  kqf ;\n",
    "''')"
   ]
  },
  {
   "cell_type": "code",
   "execution_count": 25,
   "metadata": {},
   "outputs": [],
   "source": [
    "from scipy.constants import c, e"
   ]
  },
  {
   "cell_type": "code",
   "execution_count": 26,
   "metadata": {},
   "outputs": [],
   "source": [
    "Etot = np.sqrt((pyht_beam.p0)**2 + (pyht_beam.mass * c)**2) * c / e * 1e-9 # in GeV"
   ]
  },
  {
   "cell_type": "code",
   "execution_count": 27,
   "metadata": {},
   "outputs": [
    {
     "data": {
      "text/plain": [
       "True"
      ]
     },
     "execution_count": 27,
     "metadata": {},
     "output_type": "execute_result"
    }
   ],
   "source": [
    "madx.command.beam(particle='ion', mass=pyht_beam.mass * c**2 / e * 1e-9, charge=28, energy=Etot)"
   ]
  },
  {
   "cell_type": "code",
   "execution_count": 28,
   "metadata": {},
   "outputs": [],
   "source": [
    "madx.input('''\n",
    "!remove correctors\n",
    "select, flag=seqedit, pattern=qs1j;\n",
    "!remove all other elements\n",
    "select, flag=seqedit, class=collimator;\n",
    "select, flag=seqedit, class=kicker;\n",
    "select, flag=seqedit, class=tkicker;\n",
    "select, flag=seqedit, class=elseparator;\n",
    "select, flag=seqedit, class=hmonitor;\n",
    "select, flag=seqedit, class=multipole;\n",
    "select, flag=seqedit, class=vmonitor;\n",
    "\n",
    "seqedit, sequence=sis100cold;\n",
    "    remove, element=selected;\n",
    "    flatten;\n",
    "endedit;\n",
    "\n",
    "!remove remaining markers (besides $START which is required for MADX)\n",
    "select, flag=seqedit, class=marker;\n",
    "seqedit, sequence=SIS100cold;\n",
    "    remove, element=selected;\n",
    "    install, element=SIS100cold$START, s=0;\n",
    "    flatten;\n",
    "endedit;\n",
    "''')\n",
    "\n",
    "madx.use(sequence='sis100cold')"
   ]
  },
  {
   "cell_type": "code",
   "execution_count": 29,
   "metadata": {},
   "outputs": [
    {
     "name": "stdout",
     "output_type": "stream",
     "text": [
      "enter Twiss module\n",
      "\n",
      "++++++ table: summ\n",
      "\n",
      "            length             orbit5               alfa            gammatr \n",
      "            1083.6                 -0     0.004219524433        15.39459426 \n",
      "\n",
      "                q1                dq1            betxmax              dxmax \n",
      "       18.83926403       -39.60084071        19.02839238        3.072291815 \n",
      "\n",
      "             dxrms             xcomax             xcorms                 q2 \n",
      "       1.438911722                  0                  0        18.74318541 \n",
      "\n",
      "               dq2            betymax              dymax              dyrms \n",
      "      -39.60819988        19.12589274                  0                  0 \n",
      "\n",
      "            ycomax             ycorms             deltap            synch_1 \n",
      "                 0                  0                  0                  0 \n",
      "\n",
      "           synch_2            synch_3            synch_4            synch_5 \n",
      "                 0                  0                  0                  0 \n",
      "\n",
      "            nflips \n",
      "                 0 \n"
     ]
    }
   ],
   "source": [
    "madx.twiss();"
   ]
  },
  {
   "cell_type": "code",
   "execution_count": 30,
   "metadata": {},
   "outputs": [
    {
     "data": {
      "text/plain": [
       "True"
      ]
     },
     "execution_count": 30,
     "metadata": {},
     "output_type": "execute_result"
    }
   ],
   "source": [
    "madx.input('harmonic_number = 10;')"
   ]
  },
  {
   "cell_type": "code",
   "execution_count": 31,
   "metadata": {},
   "outputs": [
    {
     "name": "stdout",
     "output_type": "stream",
     "text": [
      "makethin: style chosen : teapot\n",
      "makethin: slicing sequence : sis100cold\n"
     ]
    }
   ],
   "source": [
    "assert madx.command.select(\n",
    "    flag='MAKETHIN',\n",
    "    class_='QUADRUPOLE',\n",
    "    slice_='9',\n",
    ")\n",
    "\n",
    "assert madx.command.select(\n",
    "    flag='MAKETHIN',\n",
    "    class_='SEXTUPOLE',\n",
    "    slice_='1',\n",
    ")\n",
    "\n",
    "assert madx.command.select(\n",
    "    flag='MAKETHIN',\n",
    "    class_='SBEND',\n",
    "    slice_='9',\n",
    ")\n",
    "\n",
    "assert madx.command.makethin(\n",
    "    makedipedge=True,\n",
    "    style='teapot',\n",
    "    sequence='sis100cold',\n",
    ")"
   ]
  },
  {
   "cell_type": "code",
   "execution_count": 32,
   "metadata": {},
   "outputs": [],
   "source": [
    "madx.use(sequence='sis100cold')"
   ]
  },
  {
   "cell_type": "code",
   "execution_count": 33,
   "metadata": {},
   "outputs": [
    {
     "name": "stdout",
     "output_type": "stream",
     "text": [
      "enter Twiss module\n",
      "\n",
      "++++++ table: summ\n",
      "\n",
      "            length             orbit5               alfa            gammatr \n",
      "            1083.6                 -0     0.004219834408        15.39402883 \n",
      "\n",
      "                q1                dq1            betxmax              dxmax \n",
      "       18.83850294       -39.79076481        19.59809408        3.135290881 \n",
      "\n",
      "             dxrms             xcomax             xcorms                 q2 \n",
      "       1.425941796                  0                  0        18.74332419 \n",
      "\n",
      "               dq2            betymax              dymax              dyrms \n",
      "      -39.59751888        19.69098909                  0                  0 \n",
      "\n",
      "            ycomax             ycorms             deltap            synch_1 \n",
      "                 0                  0                  0                  0 \n",
      "\n",
      "           synch_2            synch_3            synch_4            synch_5 \n",
      "                 0                  0                  0                  0 \n",
      "\n",
      "            nflips \n",
      "                 0 \n"
     ]
    }
   ],
   "source": [
    "madx.twiss();"
   ]
  },
  {
   "cell_type": "code",
   "execution_count": 34,
   "metadata": {},
   "outputs": [
    {
     "name": "stdout",
     "output_type": "stream",
     "text": [
      "START MATCHING\n",
      "\n",
      "number of sequences: 1\n",
      "sequence name: sis100cold\n",
      "number of variables:    2\n",
      "user given constraints: 2\n",
      "total constraints:      2\n",
      "\n",
      "START LMDIF:\n",
      "\n",
      "\n",
      "MATCH SUMMARY\n",
      "\n",
      "Node_Name                  Constraint   Type  Target Value       Final Value        Penalty\n",
      "--------------------------------------------------------------------------------------------------\n",
      "\n",
      "\n",
      "Final Penalty Function =   4.14736608e-11\n",
      "\n",
      "\n",
      "\n",
      "\n",
      "\n",
      "Variable                 Final Value  Initial Value Lower Limit  Upper Limit \n",
      "--------------------------------------------------------------------------------\n",
      "kqf                       2.80946e-01  2.80976e-01 -1.00000e+20  1.00000e+20\n",
      "kqd                      -2.79727e-01 -2.79845e-01 -1.00000e+20  1.00000e+20\n",
      "\n",
      "END MATCH SUMMARY\n",
      "\n",
      "VARIABLE \"TAR\" SET TO   4.14736608e-11\n"
     ]
    },
    {
     "data": {
      "text/plain": [
       "True"
      ]
     },
     "execution_count": 34,
     "metadata": {},
     "output_type": "execute_result"
    }
   ],
   "source": [
    "madx.input('''\n",
    "    match, sequence=SIS100cold;\n",
    "    global, sequence=SIS100cold, q1={qx}, q2={qy};\n",
    "    vary, name=kqf, step=0.00001;\n",
    "    vary, name=kqd, step=0.00001;\n",
    "    lmdif, calls=500, tolerance=1.0e-10;\n",
    "    endmatch;\n",
    "'''.format(qx=18.84, qy=18.73)\n",
    ")"
   ]
  },
  {
   "cell_type": "code",
   "execution_count": 35,
   "metadata": {},
   "outputs": [
    {
     "name": "stdout",
     "output_type": "stream",
     "text": [
      "enter Twiss module\n",
      "\n",
      "++++++ table: summ\n",
      "\n",
      "            length             orbit5               alfa            gammatr \n",
      "            1083.6                 -0     0.004218745774        15.39601489 \n",
      "\n",
      "                q1                dq1            betxmax              dxmax \n",
      "       18.84000043        -39.7815807        19.59448973         3.13327747 \n",
      "\n",
      "             dxrms             xcomax             xcorms                 q2 \n",
      "       1.425364133                  0                  0        18.72999952 \n",
      "\n",
      "               dq2            betymax              dymax              dyrms \n",
      "      -39.57121814        19.69359337                  0                  0 \n",
      "\n",
      "            ycomax             ycorms             deltap            synch_1 \n",
      "                 0                  0                  0                  0 \n",
      "\n",
      "           synch_2            synch_3            synch_4            synch_5 \n",
      "                 0                  0                  0                  0 \n",
      "\n",
      "            nflips \n",
      "                 0 \n"
     ]
    }
   ],
   "source": [
    "madx.twiss();"
   ]
  },
  {
   "cell_type": "code",
   "execution_count": 56,
   "metadata": {},
   "outputs": [
    {
     "data": {
      "text/plain": [
       "True"
      ]
     },
     "execution_count": 56,
     "metadata": {},
     "output_type": "execute_result"
    }
   ],
   "source": [
    "madx.input('''\n",
    "!!Chromaticity correction\n",
    "\n",
    "k2nl_KSCH       :=      0                               ;\n",
    "k2nl_KSCV       :=      0                               ;\n",
    "\n",
    "K2NL_S16KS1CH   :=      k2nl_KSCH       ;\n",
    "K2NL_S26KS1CH   :=      k2nl_KSCH       ;\n",
    "K2NL_S36KS1CH   :=      k2nl_KSCH       ;\n",
    "K2NL_S46KS1CH   :=      k2nl_KSCH       ;\n",
    "K2NL_S56KS1CH   :=      k2nl_KSCH       ;\n",
    "K2NL_S66KS1CH   :=      k2nl_KSCH       ;\n",
    "\n",
    "\n",
    "K2NL_S18KS1CH   :=      k2nl_KSCH       ;\n",
    "K2NL_S28KS1CH   :=      k2nl_KSCH       ;\n",
    "K2NL_S38KS1CH   :=      k2nl_KSCH       ;\n",
    "K2NL_S48KS1CH   :=      k2nl_KSCH       ;\n",
    "K2NL_S58KS1CH   :=      k2nl_KSCH       ;\n",
    "K2NL_S68KS1CH   :=      k2nl_KSCH       ;\n",
    "\n",
    "\n",
    "K2NL_S1AKS1CH   :=      k2nl_KSCH       ;\n",
    "K2NL_S2AKS1CH   :=      k2nl_KSCH       ;\n",
    "K2NL_S3AKS1CH   :=      k2nl_KSCH       ;\n",
    "K2NL_S4AKS1CH   :=      k2nl_KSCH       ;\n",
    "K2NL_S5AKS1CH   :=      k2nl_KSCH       ;\n",
    "K2NL_S6AKS1CH   :=      k2nl_KSCH       ;\n",
    "\n",
    "\n",
    "K2NL_S1CKS1CH   :=      k2nl_KSCH       ;\n",
    "K2NL_S2CKS1CH   :=      k2nl_KSCH       ;\n",
    "K2NL_S3CKS1CH   :=      k2nl_KSCH       ;\n",
    "K2NL_S4CKS1CH   :=      k2nl_KSCH       ;\n",
    "K2NL_S5CKS1CH   :=      k2nl_KSCH       ;\n",
    "K2NL_S6CKS1CH   :=      k2nl_KSCH       ;\n",
    "\n",
    "K2NL_S15KS1CV   :=      k2nl_KSCV       ;\n",
    "K2NL_S25KS1CV   :=      k2nl_KSCV       ;\n",
    "K2NL_S35KS1CV   :=      k2nl_KSCV       ;\n",
    "K2NL_S45KS1CV   :=      k2nl_KSCV       ;\n",
    "K2NL_S55KS1CV   :=      k2nl_KSCV       ;\n",
    "K2NL_S65KS1CV   :=      k2nl_KSCV       ;\n",
    "\n",
    "\n",
    "K2NL_S17KS1CV   :=      k2nl_KSCV       ;\n",
    "K2NL_S27KS1CV   :=      k2nl_KSCV       ;\n",
    "K2NL_S37KS1CV   :=      k2nl_KSCV       ;\n",
    "K2NL_S47KS1CV   :=      k2nl_KSCV       ;\n",
    "K2NL_S57KS1CV   :=      k2nl_KSCV       ;\n",
    "K2NL_S67KS1CV   :=      k2nl_KSCV       ;\n",
    "\n",
    "\n",
    "K2NL_S1BKS1CV   :=      k2nl_KSCV       ;\n",
    "K2NL_S2BKS1CV   :=      k2nl_KSCV       ;\n",
    "K2NL_S3BKS1CV   :=      k2nl_KSCV       ;\n",
    "K2NL_S4BKS1CV   :=      k2nl_KSCV       ;\n",
    "K2NL_S5BKS1CV   :=      k2nl_KSCV       ;\n",
    "K2NL_S6BKS1CV   :=      k2nl_KSCV       ;\n",
    "''')"
   ]
  },
  {
   "cell_type": "code",
   "execution_count": 57,
   "metadata": {},
   "outputs": [
    {
     "name": "stdout",
     "output_type": "stream",
     "text": [
      "START MATCHING\n",
      "\n",
      "number of sequences: 1\n",
      "sequence name: sis100cold\n",
      "number of variables:    2\n",
      "user given constraints: 2\n",
      "total constraints:      2\n",
      "\n",
      "START LMDIF:\n",
      "\n",
      "\n",
      "MATCH SUMMARY\n",
      "\n",
      "Node_Name                  Constraint   Type  Target Value       Final Value        Penalty\n",
      "--------------------------------------------------------------------------------------------------\n",
      "\n",
      "\n",
      "Final Penalty Function =   2.82664435e-20\n",
      "\n",
      "\n",
      "\n",
      "\n",
      "\n",
      "Variable                 Final Value  Initial Value Lower Limit  Upper Limit \n",
      "--------------------------------------------------------------------------------\n",
      "k2nl_ksch                -1.54290e+00  0.00000e+00 -1.00000e+20  1.00000e+20\n",
      "k2nl_kscv                 3.03133e+00  0.00000e+00 -1.00000e+20  1.00000e+20\n",
      "\n",
      "END MATCH SUMMARY\n",
      "\n",
      "VARIABLE \"TAR\" SET TO   2.82664435e-20\n"
     ]
    },
    {
     "data": {
      "text/plain": [
       "True"
      ]
     },
     "execution_count": 57,
     "metadata": {},
     "output_type": "execute_result"
    }
   ],
   "source": [
    "madx.input('''\n",
    "    match, sequence=SIS100cold;\n",
    "    global, sequence=SIS100cold, dq1={qpx}, dq2={qpy};\n",
    "    vary, name=k2nl_KSCH, step=0.00001;\n",
    "    vary, name=k2nl_KSCV, step=0.00001;\n",
    "    lmdif, calls=500, tolerance=1.0e-10;\n",
    "    endmatch;\n",
    "'''.format(qpx=18.84 / pyht_beam.beta, qpy=18.73 / pyht_beam.beta)\n",
    ")"
   ]
  },
  {
   "cell_type": "code",
   "execution_count": 58,
   "metadata": {},
   "outputs": [
    {
     "name": "stdout",
     "output_type": "stream",
     "text": [
      "enter Twiss module\n",
      "\n",
      "++++++ table: summ\n",
      "\n",
      "            length             orbit5               alfa            gammatr \n",
      "            1083.6                 -0     0.004577005258        14.78118642 \n",
      "\n",
      "                q1                dq1            betxmax              dxmax \n",
      "       18.84000043        33.17042845        19.59448972        3.133575495 \n",
      "\n",
      "             dxrms             xcomax             xcorms                 q2 \n",
      "       1.425366455                  0                  0        18.72999952 \n",
      "\n",
      "               dq2            betymax              dymax              dyrms \n",
      "       32.97675822        19.69359337                  0                  0 \n",
      "\n",
      "            ycomax             ycorms             deltap            synch_1 \n",
      "                 0                  0                  0                  0 \n",
      "\n",
      "           synch_2            synch_3            synch_4            synch_5 \n",
      "                 0                  0                  0                  0 \n",
      "\n",
      "            nflips \n",
      "                 0 \n"
     ]
    }
   ],
   "source": [
    "madx.twiss();"
   ]
  },
  {
   "cell_type": "code",
   "execution_count": 37,
   "metadata": {},
   "outputs": [
    {
     "data": {
      "text/plain": [
       "True"
      ]
     },
     "execution_count": 37,
     "metadata": {},
     "output_type": "execute_result"
    }
   ],
   "source": [
    "madx.input('''\n",
    "cavity_voltage = {v} * 1e-6 / 14;\n",
    "'''.format(v=longitudinal_map_kwargs['voltage_list'][0]))"
   ]
  },
  {
   "cell_type": "code",
   "execution_count": 38,
   "metadata": {},
   "outputs": [
    {
     "data": {
      "text/plain": [
       "True"
      ]
     },
     "execution_count": 38,
     "metadata": {},
     "output_type": "execute_result"
    }
   ],
   "source": [
    "madx.save(sequence='sis100cold', file='SIS100_thin_withsextupoles_pos-chroma.seq')"
   ]
  },
  {
   "cell_type": "code",
   "execution_count": 39,
   "metadata": {},
   "outputs": [],
   "source": [
    "import pysixtrack"
   ]
  },
  {
   "cell_type": "code",
   "execution_count": 40,
   "metadata": {},
   "outputs": [],
   "source": [
    "pysixtrack_elements = pysixtrack.Line.from_madx_sequence(\n",
    "    madx.sequence.sis100cold, exact_drift=True, install_apertures=False\n",
    ")\n",
    "pysixtrack_elements.remove_zero_length_drifts(inplace=True);\n",
    "pysixtrack_elements.merge_consecutive_drifts(inplace=True);"
   ]
  },
  {
   "cell_type": "code",
   "execution_count": 41,
   "metadata": {},
   "outputs": [
    {
     "ename": "NameError",
     "evalue": "name 'elements' is not defined",
     "output_type": "error",
     "traceback": [
      "\u001b[0;31m---------------------------------------------------------------------------\u001b[0m",
      "\u001b[0;31mNameError\u001b[0m                                 Traceback (most recent call last)",
      "\u001b[0;32m<ipython-input-41-78a116fb68d3>\u001b[0m in \u001b[0;36m<module>\u001b[0;34m\u001b[0m\n\u001b[0;32m----> 1\u001b[0;31m \u001b[0;32mdel\u001b[0m \u001b[0melements\u001b[0m\u001b[0;34m,\u001b[0m \u001b[0mparticles\u001b[0m\u001b[0;34m,\u001b[0m \u001b[0mtrackjob\u001b[0m\u001b[0;34m\u001b[0m\u001b[0;34m\u001b[0m\u001b[0m\n\u001b[0m",
      "\u001b[0;31mNameError\u001b[0m: name 'elements' is not defined"
     ]
    }
   ],
   "source": [
    "del elements, particles, trackjob"
   ]
  },
  {
   "cell_type": "code",
   "execution_count": 42,
   "metadata": {},
   "outputs": [],
   "source": [
    "elements = stl.Elements.from_line(pysixtrack_elements)\n",
    "elements.BeamMonitor(num_stores=n_turns);"
   ]
  },
  {
   "cell_type": "code",
   "execution_count": 43,
   "metadata": {},
   "outputs": [],
   "source": [
    "twiss = madx.twiss();"
   ]
  },
  {
   "cell_type": "code",
   "execution_count": 44,
   "metadata": {},
   "outputs": [],
   "source": [
    "n_macroparticles = 1000\n",
    "\n",
    "np.random.seed(0)\n",
    "\n",
    "pyht_beam = generate_Gaussian6DTwiss(\n",
    "    macroparticlenumber=n_macroparticles,\n",
    "    intensity=intensity,\n",
    "    alpha_x=twiss['alfx'][0],\n",
    "    beta_x=twiss['betx'][0],\n",
    "    dispersion_x=twiss['dx'][0] * pyht_beam.beta,\n",
    "    alpha_y=twiss['alfy'][0],\n",
    "    beta_y=twiss['bety'][0],\n",
    "    dispersion_y=twiss['dy'][0] * pyht_beam.beta,\n",
    "    **beam_kwargs,\n",
    ")"
   ]
  },
  {
   "cell_type": "code",
   "execution_count": 45,
   "metadata": {},
   "outputs": [],
   "source": [
    "particles = stl.Particles.from_ref(\n",
    "    n_macroparticles, p0c=pyht_beam.p0 * c / e, \n",
    "    mass0=pyht_beam.mass*c**2/e, q0=28)\n",
    "\n",
    "particles.x[:] = pyht_beam.x\n",
    "particles.px[:] = pyht_beam.xp\n",
    "particles.y[:] = pyht_beam.y\n",
    "particles.py[:] = pyht_beam.yp\n",
    "particles.zeta[:] = pyht_beam.z\n",
    "particles.delta[:] = pyht_beam.dp\n",
    "\n",
    "particles.rpp[:] = 1. / (pyht_beam.dp + 1)\n",
    "\n",
    "p0 = pyht_beam.p0\n",
    "beta = pyht_beam.beta\n",
    "mass = pyht_beam.mass\n",
    "\n",
    "restmass = mass * c**2\n",
    "restmass_sq = restmass**2\n",
    "E0 = np.sqrt((p0 * c)**2 + restmass_sq)\n",
    "p = p0 * (1 + pyht_beam.dp)\n",
    "E = np.sqrt((p * c)**2 + restmass_sq)\n",
    "particles.psigma[:] = (E - E0) / (beta * p0 * c)\n",
    "\n",
    "gammai = E / restmass\n",
    "betai = np.sqrt(1 - 1. / (gammai * gammai))\n",
    "particles.rvv[:] = betai / beta"
   ]
  },
  {
   "cell_type": "code",
   "execution_count": null,
   "metadata": {},
   "outputs": [],
   "source": [
    "trackjob = stl.TrackJob(elements, particles, device='opencl:1.0')"
   ]
  },
  {
   "cell_type": "code",
   "execution_count": 46,
   "metadata": {},
   "outputs": [],
   "source": [
    "# trackjob = stl.CudaTrackJob(elements, particles)\n",
    "\n",
    "# trackjob.collect_beam_elements()\n",
    "# trackjob.beam_elements_buffer.get_elements()[-1].max_particle_id = n_macroparticles - 1\n",
    "# trackjob.push_beam_elements()"
   ]
  },
  {
   "cell_type": "code",
   "execution_count": 49,
   "metadata": {},
   "outputs": [
    {
     "data": {
      "text/plain": [
       "<sixtracklib.cuda.CudaTrackJob at 0x7f1e9439bd30>"
      ]
     },
     "execution_count": 49,
     "metadata": {},
     "output_type": "execute_result"
    }
   ],
   "source": [
    "trackjob.track_until(n_turns)\n",
    "trackjob.collect();"
   ]
  },
  {
   "cell_type": "code",
   "execution_count": 50,
   "metadata": {},
   "outputs": [],
   "source": [
    "x = trackjob.output.particles[0].x\n",
    "px = trackjob.output.particles[0].px\n",
    "y = trackjob.output.particles[0].y\n",
    "py = trackjob.output.particles[0].py\n",
    "zeta = trackjob.output.particles[0].zeta\n",
    "delta = trackjob.output.particles[0].delta"
   ]
  },
  {
   "cell_type": "code",
   "execution_count": 51,
   "metadata": {},
   "outputs": [
    {
     "data": {
      "text/plain": [
       "[<matplotlib.lines.Line2D at 0x7f1ee00728d0>]"
      ]
     },
     "execution_count": 51,
     "metadata": {},
     "output_type": "execute_result"
    },
    {
     "data": {
      "image/png": "[encoded data removed]",
      "text/plain": [
       "<Figure size 432x288 with 1 Axes>"
      ]
     },
     "metadata": {
      "needs_background": "light"
     },
     "output_type": "display_data"
    }
   ],
   "source": [
    "plt.plot(x[1::n_macroparticles], lw=1)"
   ]
  },
  {
   "cell_type": "code",
   "execution_count": 52,
   "metadata": {},
   "outputs": [
    {
     "data": {
      "image/png": "[encoded data removed]",
      "text/plain": [
       "<Figure size 432x288 with 1 Axes>"
      ]
     },
     "metadata": {
      "needs_background": "light"
     },
     "output_type": "display_data"
    }
   ],
   "source": [
    "plt.hist(x[0:n_macroparticles], bins=100);"
   ]
  },
  {
   "cell_type": "code",
   "execution_count": 53,
   "metadata": {},
   "outputs": [
    {
     "data": {
      "image/png": "[encoded data removed]",
      "text/plain": [
       "<Figure size 432x288 with 1 Axes>"
      ]
     },
     "metadata": {
      "needs_background": "light"
     },
     "output_type": "display_data"
    }
   ],
   "source": [
    "plt.hist(x[-n_macroparticles:], bins=100);"
   ]
  },
  {
   "cell_type": "code",
   "execution_count": 54,
   "metadata": {},
   "outputs": [
    {
     "data": {
      "text/plain": [
       "<matplotlib.collections.PathCollection at 0x7f1e940c8ac8>"
      ]
     },
     "execution_count": 54,
     "metadata": {},
     "output_type": "execute_result"
    },
    {
     "data": {
      "image/png": "[encoded data removed]",
      "text/plain": [
       "<Figure size 432x288 with 1 Axes>"
      ]
     },
     "metadata": {
      "needs_background": "light"
     },
     "output_type": "display_data"
    }
   ],
   "source": [
    "plt.scatter(x[-n_macroparticles:], \n",
    "            px[-n_macroparticles:],\n",
    "            marker='.', s=1)"
   ]
  },
  {
   "cell_type": "code",
   "execution_count": 55,
   "metadata": {},
   "outputs": [
    {
     "data": {
      "text/plain": [
       "[<matplotlib.lines.Line2D at 0x7f1e7878bb38>]"
      ]
     },
     "execution_count": 55,
     "metadata": {},
     "output_type": "execute_result"
    },
    {
     "data": {
      "image/png": "[encoded data removed]",
      "text/plain": [
       "<Figure size 432x288 with 1 Axes>"
      ]
     },
     "metadata": {
      "needs_background": "light"
     },
     "output_type": "display_data"
    }
   ],
   "source": [
    "plt.plot(zeta[1::n_macroparticles], lw=1)"
   ]
  },
  {
   "cell_type": "code",
   "execution_count": 52,
   "metadata": {},
   "outputs": [
    {
     "data": {
      "image/png": "[encoded data removed]",
      "text/plain": [
       "<Figure size 432x288 with 1 Axes>"
      ]
     },
     "metadata": {
      "needs_background": "light"
     },
     "output_type": "display_data"
    }
   ],
   "source": [
    "plt.scatter(zeta, \n",
    "            delta,\n",
    "            marker='.', s=1, label='STL')\n",
    "plt.legend()\n",
    "plt.ylim(-max(abs(delta)) * 1.1, max(abs(delta)) * 1.1);"
   ]
  },
  {
   "cell_type": "code",
   "execution_count": 75,
   "metadata": {},
   "outputs": [],
   "source": [
    "pbuffer = trackjob.particles_buffer.get_object(0)"
   ]
  },
  {
   "cell_type": "code",
   "execution_count": 76,
   "metadata": {},
   "outputs": [
    {
     "data": {
      "text/plain": [
       "1000"
      ]
     },
     "execution_count": 76,
     "metadata": {},
     "output_type": "execute_result"
    }
   ],
   "source": [
    "np.sum(pbuffer.state)"
   ]
  },
  {
   "cell_type": "markdown",
   "metadata": {
    "slideshow": {
     "slide_type": "slide"
    }
   },
   "source": [
    "# ... well &ndash; let's try to unify, shan't we?"
   ]
  },
  {
   "cell_type": "markdown",
   "metadata": {},
   "source": [
    "Integrate `SixTrackLib` tracking with wakefield kick from `PyHEADTAIL`"
   ]
  },
  {
   "cell_type": "code",
   "execution_count": null,
   "metadata": {},
   "outputs": [],
   "source": []
  }
 ],
 "metadata": {
  "celltoolbar": "Slideshow",
  "kernelspec": {
   "display_name": "Python 3",
   "language": "python",
   "name": "python3"
  },
  "language_info": {
   "codemirror_mode": {
    "name": "ipython",
    "version": 3
   },
   "file_extension": ".py",
   "mimetype": "text/x-python",
   "name": "python",
   "nbconvert_exporter": "python",
   "pygments_lexer": "ipython3",
   "version": "3.7.3"
  }
 },
 "nbformat": 4,
 "nbformat_minor": 2
}
