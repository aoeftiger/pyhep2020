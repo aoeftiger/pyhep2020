{
 "cells": [
  {
   "cell_type": "markdown",
   "metadata": {
    "slideshow": {
     "slide_type": "slide"
    }
   },
   "source": [
    "# Integrating GPU libraries for fun and profit\n",
    "\n",
    "### ...on extending and interfacing HPC simulation tools\n",
    "\n",
    "##### Authors: Adrian Oeftiger and Martin Schwinzerl"
   ]
  },
  {
   "cell_type": "markdown",
   "metadata": {
    "slideshow": {
     "slide_type": "slide"
    }
   },
   "source": [
    "# Abstract\n",
    "\n",
    "I have a high-performance number crunching tool with cool physics which simulates long-term on a GPU &ndash; how can I extend the inner loop by further cool physics, injected from the outside?\n",
    "In python this should be easy, right? But wait... we are sitting on device memory?\n",
    "\n",
    "In this talk we explore how to tightly couple two libraries for high-performance computation of long-term beam dynamics, `SixTrackLib` and `PyHEADTAIL`. How can we design the _interface_ between both libraries in terms of\n",
    "\n",
    "(1) remaining on the python level,\n",
    "\n",
    "(2) avoid losing performance due to device-to-host-to-device copies, and\n",
    "\n",
    "(3) keeping both libraries as stand-alone packages?\n",
    "\n",
    "The interface can be surprisingly simple, yet fully fledged... Let's go!"
   ]
  },
  {
   "cell_type": "markdown",
   "metadata": {
    "slideshow": {
     "slide_type": "slide"
    }
   },
   "source": [
    "# ... the physics ..."
   ]
  },
  {
   "cell_type": "markdown",
   "metadata": {
    "slideshow": {
     "slide_type": "slide"
    }
   },
   "source": [
    "# Collective beam dynamics\n",
    "\n",
    "3D particle motion $\\leadsto$ 6 phase space coordinates:\n",
    "$$\\mathbb{X}=(\\underbrace{x, x'\\vphantom{y'}}_{horizontal}, \\underbrace{y, y'}_{vertical}, \\underbrace{z, \\delta\\vphantom{y'}}_{longitudinal})$$\n",
    "\n",
    "A beam $=$ state of $N$ macro-particles $=$ $6N$ values of phase space coordinates"
   ]
  },
  {
   "cell_type": "markdown",
   "metadata": {
    "slideshow": {
     "slide_type": "fragment"
    }
   },
   "source": [
    "## Simulations:\n",
    "* typically up to $\\mathcal{O}(10^6)$ macro-particles\n",
    "* accelerator elements to track through: up to $\\mathcal{O}(1000)$\n",
    "* simulations can last up to $\\mathcal{O}(10^6)$ turns \n",
    "* particle-to-particle interaction: binning, FFT, convolution, particle-in-cell, Poisson solvers"
   ]
  },
  {
   "cell_type": "markdown",
   "metadata": {
    "slideshow": {
     "slide_type": "slide"
    }
   },
   "source": [
    "# Requirements for simulation tools\n",
    "\n",
    "* long-term evolution $\\leadsto$ **double precision**\n",
    "* heavy **number crunching** $\\leadsto$ high-performance computing (**HPC**)<br />(in particular for _collective effects_ i.e. particle-to-particle interaction)\n",
    "* **iterative development**, frequent update of accelerator models $\\leadsto$ python"
   ]
  },
  {
   "cell_type": "markdown",
   "metadata": {
    "slideshow": {
     "slide_type": "slide"
    }
   },
   "source": [
    "# Single-particle vs. multi-particle dynamics\n",
    "\n",
    "**single-particle** $\\implies$ <span style=\"color:#00aad4;\">\"tracking\"</span>: particle motion due to external focusing (magnets and RF cavities)\n",
    "\n",
    "**multi-particle** $\\implies$ <span style=\"color:#aa0000;\">\"collective effect kicks\"</span>: direct and indirect particle-to-particle interaction\n",
    "\n",
    "<center>\n",
    "<img src=\"images/transverse-model_empty.png\" alt=\"sketch of one-turn map for ring\" style=\"width:30%;\"/>\n",
    "Tracking around the accelerator ring\n",
    "</center>"
   ]
  },
  {
   "cell_type": "markdown",
   "metadata": {
    "slideshow": {
     "slide_type": "slide"
    }
   },
   "source": [
    "# The `PyHEADTAIL` library\n",
    "\n",
    "Python based code for simulating collective beam dynamics: [github repo $\\nearrow$](https://github.com/PyCOMPLETE/PyHEADTAIL)\n",
    "\n",
    "$\\implies$ simplified matrix-based <span style=\"color:#00aad4;\">tracking</span>\n",
    "\n",
    "$\\implies$ **strong:** detailed models for <span style=\"color:#aa0000;\">collective effect kicks</span>\n",
    "\n",
    "<center>\n",
    "<img src=\"images/wakefield.png\" alt=\"wake field sketch\" style=\"width:30%;\"/>\n",
    "Example for a kick: wakefield induced by leading particles imparting kicks on trailing particles\n",
    "</center>"
   ]
  },
  {
   "cell_type": "markdown",
   "metadata": {
    "slideshow": {
     "slide_type": "slide"
    }
   },
   "source": [
    "# The `SixTrackLib` library\n",
    "\n",
    "C templated code with Python API for simulating single-particle beam dynamics: [github repo $\\nearrow$](https://github.com/sixtrack/sixtracklib)\n",
    "\n",
    "$\\implies$ **strong:** advanced non-linear <span style=\"color:#00aad4;\">tracking</span>\n",
    "\n",
    "$\\implies$ approximative / simplified models for <span style=\"color:#aa0000;\">collective effect kicks</span>\n",
    "\n",
    "<center>\n",
    "<img src=\"images/tracking.png\" alt=\"tracking sketch\" style=\"width:30%;\"/>\n",
    "Example for tracking: <span style=\"color:#ff6701;\">dipole magnets bend</span> and <span style=\"color:#800000;\">quadrupole magnets (de-)</span><span style=\"color:#000080;\">focus</span> particles\n",
    "</center>"
   ]
  },
  {
   "cell_type": "markdown",
   "metadata": {
    "slideshow": {
     "slide_type": "slide"
    }
   },
   "source": [
    "# ... the HPC part ..."
   ]
  },
  {
   "cell_type": "markdown",
   "metadata": {
    "slideshow": {
     "slide_type": "slide"
    }
   },
   "source": [
    "# `PyHEADTAIL` on the GPU\n",
    "\n",
    "[Concept presented on PyHEP'19 $\\nearrow$](https://indico.cern.ch/event/833895/contributions/3577801/), in short:\n",
    "\n",
    "<div style=\"float: right; width: 10%\">\n",
    "<img src=\"images/duck.png\" alt=\"duck typing\" style=\"width: 100%;\" /> <br />\n",
    "<!-- <img src=\"pycuda-logo2.png\" alt=\"PyCUDA logo\" style=\"width: 100%;\" /> -->\n",
    "</div>\n",
    "\n",
    "* utilise **duck typing** to separate physics from back-end implementation\n",
    "* sandwich layer via **context management** and **function redirection**<br />(separate math dictionaries for CPU and GPU)\n",
    "* exploit GPU via `PyCUDA` (`CuPy` would work similarly)"
   ]
  },
  {
   "cell_type": "markdown",
   "metadata": {},
   "source": [
    "```python\n",
    "# tracking loop in PyHEADTAIL:\n",
    "with GPU(pyht_beam):\n",
    "    for i in range(n_turns):\n",
    "        for element in pyht_ring_elements:\n",
    "            element.track(pyht_beam)\n",
    "```"
   ]
  },
  {
   "cell_type": "markdown",
   "metadata": {},
   "source": [
    "$\\implies$ implement physics only once! <br />\n",
    "$\\implies$ back-end details transparent to users / high-level developers"
   ]
  },
  {
   "cell_type": "markdown",
   "metadata": {
    "slideshow": {
     "slide_type": "slide"
    }
   },
   "source": [
    "# `SixTrackLib` on the GPU\n",
    "\n",
    "[Concept presented on PyHEP'19 $\\nearrow$](https://indico.cern.ch/event/833895/contributions/3577803/), in short:\n",
    "\n",
    "* Python API for dynamic interaction\n",
    "* C **templating approach** to separate physics from back-end implementation\n",
    "    * implementation in usual C for (single-core) CPU\n",
    "    * implementation in openCL for multi-core CPU and GPU (AMD, NVIDIA)\n",
    "    * implementation in CUDA for NVIDIA GPUs"
   ]
  },
  {
   "cell_type": "markdown",
   "metadata": {},
   "source": [
    "```python\n",
    "# tracking kernel in SixTrackLib\n",
    "trackjob = stl.TrackJob(stl_ring_elements, stl_beam, device='opencl:0.0')\n",
    "trackjob.track_until(n_turns)\n",
    "```"
   ]
  },
  {
   "cell_type": "markdown",
   "metadata": {},
   "source": [
    "$\\implies$ implement physics only once! <br />\n",
    "$\\implies$ users launch \"trackjobs\" with just a single `device` keyword to switch architecture"
   ]
  },
  {
   "cell_type": "markdown",
   "metadata": {
    "slideshow": {
     "slide_type": "slide"
    }
   },
   "source": [
    "# ... the quest ..."
   ]
  },
  {
   "cell_type": "markdown",
   "metadata": {
    "slideshow": {
     "slide_type": "slide"
    }
   },
   "source": [
    "# `SixTrackLib` $+$ `PyHEADTAIL` $=$ <3 ?\n",
    "\n",
    "`SixTrackLib` $\\rightarrow$ strong in advanced non-linear <span style=\"color:#00aad4;\">tracking</span>\n",
    "\n",
    "`PyHEADTAIL` $\\rightarrow$ strong in <span style=\"color:#aa0000;\">collective effect kicks</span>\n",
    "\n",
    "$\\implies$ `SixTrackLib` $+$ `PyHEADTAIL` $=$ strong in both?"
   ]
  },
  {
   "cell_type": "markdown",
   "metadata": {
    "slideshow": {
     "slide_type": "fragment"
    }
   },
   "source": [
    "<center>\n",
    "<img src=\"images/transverse-model_integration.png\" alt=\"integrating PyHEADTAIL and SixTrackLib\" style=\"width:30%;\"/>\n",
    "Alternating SixTrackLib <span style=\"color:#00aad4;\">tracking</span> and PyHEADTAIL <span style=\"color:#aa0000;\">kicking</span>\n",
    "</center>"
   ]
  },
  {
   "cell_type": "markdown",
   "metadata": {
    "slideshow": {
     "slide_type": "slide"
    }
   },
   "source": [
    "# ... the quest*ions* ..."
   ]
  },
  {
   "cell_type": "markdown",
   "metadata": {
    "slideshow": {
     "slide_type": "slide"
    }
   },
   "source": [
    "Situation:\n",
    "* `PyHEADTAIL` on the GPU lives in `PyCUDA`, managed from user script\n",
    "* `SixTrackLib` on the GPU manages its CUDA kernel invocation by itself\n",
    "* beam state data: <br />`PyHEADTAIL` uses `PyCUDA.GPUArrays` while `SixTrackLib` uses custom memory buffers\n",
    "\n",
    "Critical aspects:\n",
    "* how to hand over the data between the two codes?\n",
    "* how to avoid GPU - CPU - GPU memory transfer?\n",
    "* can `PyHEADTAIL`'s `PyCUDA` context interact with `SixTrackLib`'s initialised context? \n",
    "    * visibility of memory to each other\n",
    "    * alternating kernel calls?\n",
    "    * flow control from python level?"
   ]
  },
  {
   "cell_type": "markdown",
   "metadata": {
    "slideshow": {
     "slide_type": "slide"
    }
   },
   "source": [
    "# ... example simulation with `PyHEADTAIL` ...\n",
    "\n",
    "## ... a coherent instability in the LHC ..."
   ]
  },
  {
   "cell_type": "code",
   "execution_count": 1,
   "metadata": {
    "slideshow": {
     "slide_type": "slide"
    }
   },
   "outputs": [],
   "source": [
    "# set up plotting, pythonpath etc\n",
    "from imports import *\n",
    "\n",
    "from scipy.constants import m_p, c, e"
   ]
  },
  {
   "cell_type": "markdown",
   "metadata": {},
   "source": [
    "Importing PyHEADTAIL:"
   ]
  },
  {
   "cell_type": "code",
   "execution_count": 2,
   "metadata": {
    "slideshow": {
     "slide_type": "-"
    }
   },
   "outputs": [
    {
     "name": "stdout",
     "output_type": "stream",
     "text": [
      "PyHEADTAIL v1.14.1.18\n",
      "\n",
      "\n"
     ]
    }
   ],
   "source": [
    "# initialise CUDA context for PyHEADTAIL via pycuda\n",
    "from pycuda import driver\n",
    "context = driver.Device(0).make_context()\n",
    "\n",
    "import PyHEADTAIL\n",
    "\n",
    "import pyht_streamless_slicing"
   ]
  },
  {
   "cell_type": "markdown",
   "metadata": {
    "slideshow": {
     "slide_type": "slide"
    }
   },
   "source": [
    "# Setting up <span style=\"color:#00aad4;\">tracking</span> around the LHC ring"
   ]
  },
  {
   "cell_type": "markdown",
   "metadata": {},
   "source": [
    "Transverse tracking:"
   ]
  },
  {
   "cell_type": "code",
   "execution_count": 3,
   "metadata": {
    "slideshow": {
     "slide_type": "-"
    }
   },
   "outputs": [],
   "source": [
    "from PyHEADTAIL.trackers.transverse_tracking import TransverseMap\n",
    "from PyHEADTAIL.trackers.detuners import Chromaticity\n",
    "\n",
    "from pyheadtail_setup import transverse_map_kwargs, Q_x, Q_y"
   ]
  },
  {
   "cell_type": "code",
   "execution_count": 4,
   "metadata": {
    "slideshow": {
     "slide_type": "-"
    }
   },
   "outputs": [],
   "source": [
    "transverse_map = TransverseMap(\n",
    "#     detuners=[Chromaticity(10, 10)],\n",
    "    **transverse_map_kwargs,\n",
    ")"
   ]
  },
  {
   "cell_type": "markdown",
   "metadata": {
    "slideshow": {
     "slide_type": "fragment"
    }
   },
   "source": [
    "Longitudinal tracking:"
   ]
  },
  {
   "cell_type": "code",
   "execution_count": 5,
   "metadata": {},
   "outputs": [],
   "source": [
    "from PyHEADTAIL.trackers.longitudinal_tracking import RFSystems\n",
    "\n",
    "from pyheadtail_setup import longitudinal_map_kwargs"
   ]
  },
  {
   "cell_type": "code",
   "execution_count": 6,
   "metadata": {},
   "outputs": [],
   "source": [
    "longitudinal_map = RFSystems(**longitudinal_map_kwargs)"
   ]
  },
  {
   "cell_type": "markdown",
   "metadata": {
    "slideshow": {
     "slide_type": "slide"
    }
   },
   "source": [
    "# Setting up <span style=\"color:#aa0000;\">collective effect kick</span>"
   ]
  },
  {
   "cell_type": "markdown",
   "metadata": {},
   "source": [
    "Simulate wakefields in bunch via broad-band resonator:"
   ]
  },
  {
   "cell_type": "code",
   "execution_count": 7,
   "metadata": {},
   "outputs": [],
   "source": [
    "from PyHEADTAIL.impedances.wakes import WakeField, CircularResonator\n",
    "from PyHEADTAIL.particles.slicing import UniformBinSlicer"
   ]
  },
  {
   "cell_type": "code",
   "execution_count": 8,
   "metadata": {},
   "outputs": [],
   "source": [
    "# responsible for binning the beam longitudinally:\n",
    "slicer = UniformBinSlicer(n_slices=50, n_sigma_z=4)\n",
    "\n",
    "# wakefield kick\n",
    "resonator_wake = CircularResonator(\n",
    "    R_shunt=100e6, frequency=0.8e9, Q=1,\n",
    ")\n",
    "wakefield = WakeField(slicer, resonator_wake)"
   ]
  },
  {
   "cell_type": "markdown",
   "metadata": {},
   "source": [
    "<center>\n",
    "<img src=\"images/wakefield.png\" alt=\"wake field sketch\" style=\"width:20%;\"/>\n",
    "</center>"
   ]
  },
  {
   "cell_type": "markdown",
   "metadata": {
    "slideshow": {
     "slide_type": "slide"
    }
   },
   "source": [
    "# Assembling the transport map around the LHC ring:"
   ]
  },
  {
   "cell_type": "code",
   "execution_count": 9,
   "metadata": {},
   "outputs": [],
   "source": [
    "pyht_ring_elements = list(transverse_map) + [longitudinal_map, wakefield]"
   ]
  },
  {
   "cell_type": "markdown",
   "metadata": {},
   "source": [
    "<center>\n",
    "    <!--<img src=\"images/SIS100.jpg\" alt=\"SIS100 layout\" style=\"width: 40%;\" />-->\n",
    "    <img src=\"images/lhc.jpg\" alt=\"LHC\" style=\"width: 40%;\" />\n",
    "</center>\n",
    "<center>\n",
    "    <span style=\"font-size: 0.7em;\">image reference: CMS-doc-5740-v1</span>\n",
    "</center>"
   ]
  },
  {
   "cell_type": "markdown",
   "metadata": {
    "slideshow": {
     "slide_type": "slide"
    }
   },
   "source": [
    "# Initialising the particle bunch"
   ]
  },
  {
   "cell_type": "markdown",
   "metadata": {},
   "source": [
    "6D Gaussian distribution:"
   ]
  },
  {
   "cell_type": "code",
   "execution_count": 10,
   "metadata": {},
   "outputs": [],
   "source": [
    "from PyHEADTAIL.particles.generators import generate_Gaussian6DTwiss\n",
    "\n",
    "from pyheadtail_setup import beam_kwargs"
   ]
  },
  {
   "cell_type": "code",
   "execution_count": 11,
   "metadata": {},
   "outputs": [],
   "source": [
    "n_macroparticles = 10000\n",
    "intensity = 1e11 * 5\n",
    "\n",
    "np.random.seed(0)\n",
    "\n",
    "pyht_beam = generate_Gaussian6DTwiss(\n",
    "    macroparticlenumber=n_macroparticles,\n",
    "    intensity=intensity,\n",
    "    **beam_kwargs,\n",
    "    **transverse_map.get_injection_optics(\n",
    "        for_particle_generation=True),\n",
    ")"
   ]
  },
  {
   "cell_type": "markdown",
   "metadata": {
    "slideshow": {
     "slide_type": "slide"
    }
   },
   "source": [
    "A nicely Gaussian distributed bunch:"
   ]
  },
  {
   "cell_type": "code",
   "execution_count": 12,
   "metadata": {
    "slideshow": {
     "slide_type": "-"
    }
   },
   "outputs": [
    {
     "data": {
      "image/png": "[encoded data removed]",
      "text/plain": [
       "<Figure size 864x288 with 3 Axes>"
      ]
     },
     "metadata": {
      "needs_background": "light"
     },
     "output_type": "display_data"
    }
   ],
   "source": [
    "fig, ax = plt.subplots(1, 3, figsize=(12, 4))\n",
    "plt.sca(ax[0])\n",
    "plt.xlabel('$x$ [mm]')\n",
    "plt.hist(pyht_beam.x * 1e3, bins=30);\n",
    "\n",
    "plt.sca(ax[1])\n",
    "plt.xlabel('$y$ [mm]')\n",
    "plt.hist(pyht_beam.y * 1e3, bins=30);\n",
    "\n",
    "plt.sca(ax[2])\n",
    "plt.xlabel('$z$ [m]')\n",
    "plt.hist(pyht_beam.z, bins=30);\n",
    "plt.tight_layout()"
   ]
  },
  {
   "cell_type": "markdown",
   "metadata": {
    "slideshow": {
     "slide_type": "slide"
    }
   },
   "source": [
    "Initial vertical bunch offset:"
   ]
  },
  {
   "cell_type": "code",
   "execution_count": 13,
   "metadata": {
    "slideshow": {
     "slide_type": "-"
    }
   },
   "outputs": [],
   "source": [
    "pyht_beam.y += 0.1 * pyht_beam.sigma_y()"
   ]
  },
  {
   "cell_type": "markdown",
   "metadata": {},
   "source": [
    "Storing a blueprint of the initial bunch state for later:"
   ]
  },
  {
   "cell_type": "code",
   "execution_count": 14,
   "metadata": {},
   "outputs": [],
   "source": [
    "slices0 = pyht_beam.get_slices(slicer, statistics=['mean_y'])"
   ]
  },
  {
   "cell_type": "markdown",
   "metadata": {
    "slideshow": {
     "slide_type": "slide"
    }
   },
   "source": [
    "# Let's go &ndash; simulating the LHC in `PyHEADTAIL` on the GPU:"
   ]
  },
  {
   "cell_type": "code",
   "execution_count": 15,
   "metadata": {
    "slideshow": {
     "slide_type": "-"
    }
   },
   "outputs": [],
   "source": [
    "from PyHEADTAIL.general.contextmanager import CPU, GPU\n",
    "from PyHEADTAIL.general import pmath"
   ]
  },
  {
   "cell_type": "code",
   "execution_count": 16,
   "metadata": {},
   "outputs": [],
   "source": [
    "n_turns = 500\n",
    "\n",
    "# transfer to GPU\n",
    "with GPU(pyht_beam):\n",
    "    my = pmath.zeros(n_turns, dtype=float)\n",
    "    \n",
    "    # loop over turns\n",
    "    for i in range(n_turns):\n",
    "        # loop over elements around ring\n",
    "        for element in pyht_ring_elements:\n",
    "            element.track(pyht_beam)\n",
    "\n",
    "        # record vertical bunch centroid amplitude\n",
    "        my[i] = pyht_beam.mean_y()"
   ]
  },
  {
   "cell_type": "code",
   "execution_count": 17,
   "metadata": {},
   "outputs": [],
   "source": [
    "my = pmath.ensure_CPU(my)"
   ]
  },
  {
   "cell_type": "markdown",
   "metadata": {
    "slideshow": {
     "slide_type": "slide"
    }
   },
   "source": [
    "# Outcome of our simulation?"
   ]
  },
  {
   "cell_type": "code",
   "execution_count": 18,
   "metadata": {},
   "outputs": [
    {
     "data": {
      "image/png": "[encoded data removed]",
      "text/plain": [
       "<Figure size 432x288 with 1 Axes>"
      ]
     },
     "metadata": {
      "needs_background": "light"
     },
     "output_type": "display_data"
    }
   ],
   "source": [
    "plt.plot(my * 1e3)\n",
    "plt.xlabel('Turns')\n",
    "plt.ylabel(r'$\\langle y \\rangle$ [mm]')\n",
    "plt.title('Vertical bunch centroid motion');"
   ]
  },
  {
   "cell_type": "markdown",
   "metadata": {},
   "source": [
    "$\\leadsto$ centre-of-mass of the bunch grows exponentially $\\implies$ instability!"
   ]
  },
  {
   "cell_type": "markdown",
   "metadata": {
    "slideshow": {
     "slide_type": "slide"
    }
   },
   "source": [
    "This _transverse mode coupling instability_ develops along the bunch:"
   ]
  },
  {
   "cell_type": "code",
   "execution_count": 19,
   "metadata": {
    "slideshow": {
     "slide_type": "-"
    }
   },
   "outputs": [
    {
     "data": {
      "image/png": "[encoded data removed]",
      "text/plain": [
       "<Figure size 432x288 with 1 Axes>"
      ]
     },
     "metadata": {
      "needs_background": "light"
     },
     "output_type": "display_data"
    }
   ],
   "source": [
    "from imports import plot_intrabunch\n",
    "\n",
    "plot_intrabunch(pyht_ring_elements, pyht_beam, slicer, slices0)"
   ]
  },
  {
   "cell_type": "markdown",
   "metadata": {
    "slideshow": {
     "slide_type": "slide"
    }
   },
   "source": [
    "The LHC accelerator layout (\"lattice\") was simulated with a **simple matrix tracking** model in `PyHEADTAIL`."
   ]
  },
  {
   "cell_type": "code",
   "execution_count": 20,
   "metadata": {},
   "outputs": [],
   "source": [
    "pyht_beam = generate_Gaussian6DTwiss(\n",
    "    macroparticlenumber=n_macroparticles,\n",
    "    intensity=intensity,\n",
    "    **beam_kwargs,\n",
    "    **transverse_map.get_injection_optics(\n",
    "        for_particle_generation=True),\n",
    ")"
   ]
  },
  {
   "cell_type": "code",
   "execution_count": 21,
   "metadata": {},
   "outputs": [],
   "source": [
    "pyht_ring_elements = list(transverse_map) + [longitudinal_map] # no wakefield"
   ]
  },
  {
   "cell_type": "code",
   "execution_count": 22,
   "metadata": {},
   "outputs": [],
   "source": [
    "n_turns = 200\n",
    "\n",
    "# transfer to GPU\n",
    "with GPU(pyht_beam):\n",
    "    sx = pmath.zeros(n_turns, dtype=float)\n",
    "    \n",
    "    # loop over turns\n",
    "    for i in range(n_turns):\n",
    "        # loop over elements around ring\n",
    "        for element in pyht_ring_elements:\n",
    "            element.track(pyht_beam)\n",
    "\n",
    "        # record horizontal bunch size oscillation\n",
    "        sx[i] = pyht_beam.sigma_x()"
   ]
  },
  {
   "cell_type": "code",
   "execution_count": 23,
   "metadata": {
    "slideshow": {
     "slide_type": "slide"
    }
   },
   "outputs": [],
   "source": [
    "sx = pmath.ensure_CPU(sx)"
   ]
  },
  {
   "cell_type": "code",
   "execution_count": 24,
   "metadata": {},
   "outputs": [
    {
     "data": {
      "image/png": "[encoded data removed]",
      "text/plain": [
       "<Figure size 432x288 with 1 Axes>"
      ]
     },
     "metadata": {
      "needs_background": "light"
     },
     "output_type": "display_data"
    }
   ],
   "source": [
    "plt.plot(sx * 1e3)\n",
    "plt.xlabel('Turns')\n",
    "plt.ylabel('$\\sigma_x$ [mm]')\n",
    "plt.title('Horizontal beam size oscillation');"
   ]
  },
  {
   "cell_type": "markdown",
   "metadata": {
    "slideshow": {
     "slide_type": "slide"
    }
   },
   "source": [
    "... `SixTrackLib` can simulate the real lattice... shall we?"
   ]
  },
  {
   "cell_type": "markdown",
   "metadata": {
    "slideshow": {
     "slide_type": "slide"
    }
   },
   "source": [
    "# ... example simulation with `SixTrackLib` ...\n",
    "\n",
    "## ... tracking around the LHC ..."
   ]
  },
  {
   "cell_type": "markdown",
   "metadata": {
    "slideshow": {
     "slide_type": "slide"
    }
   },
   "source": [
    "Importing SixTrackLib:"
   ]
  },
  {
   "cell_type": "code",
   "execution_count": 25,
   "metadata": {
    "slideshow": {
     "slide_type": "-"
    }
   },
   "outputs": [],
   "source": [
    "import sixtracklib as stl"
   ]
  },
  {
   "cell_type": "code",
   "execution_count": 26,
   "metadata": {
    "slideshow": {
     "slide_type": "-"
    }
   },
   "outputs": [
    {
     "name": "stdout",
     "output_type": "stream",
     "text": [
      "SixTrackLib commit 947643d56dd16b0106f9efd71510053bceef8c2d\r\n"
     ]
    }
   ],
   "source": [
    "# in absence of versioning, print current git commit for reference\n",
    "import os\n",
    "stl_dir = os.path.dirname(stl.__file__)\n",
    "!printf \"SixTrackLib \" && cd $stl_dir && git log | head -1"
   ]
  },
  {
   "cell_type": "markdown",
   "metadata": {
    "slideshow": {
     "slide_type": "slide"
    }
   },
   "source": [
    "# Load the LHC lattice"
   ]
  },
  {
   "cell_type": "code",
   "execution_count": 27,
   "metadata": {
    "slideshow": {
     "slide_type": "-"
    }
   },
   "outputs": [],
   "source": [
    "stl_ring_elements = stl.Elements.fromfile(\n",
    "    stl_dir + '/../../tests/testdata/lhc_no_bb/beam_elements.bin')"
   ]
  },
  {
   "cell_type": "markdown",
   "metadata": {},
   "source": [
    "And add a monitor to record the motion of particles later when the tracking kernel is dispatched:"
   ]
  },
  {
   "cell_type": "code",
   "execution_count": 28,
   "metadata": {},
   "outputs": [],
   "source": [
    "n_macroparticles = 1000\n",
    "n_turns = 200\n",
    "\n",
    "stl_ring_elements.BeamMonitor(\n",
    "    start=0, num_stores=n_turns, max_particle_id=n_macroparticles - 1);"
   ]
  },
  {
   "cell_type": "markdown",
   "metadata": {
    "slideshow": {
     "slide_type": "slide"
    }
   },
   "source": [
    "# Initialise another `PyHEADTAIL` bunch..."
   ]
  },
  {
   "cell_type": "code",
   "execution_count": 29,
   "metadata": {},
   "outputs": [],
   "source": [
    "np.random.seed(0)\n",
    "\n",
    "pyht_beam = generate_Gaussian6DTwiss(\n",
    "    macroparticlenumber=n_macroparticles,\n",
    "    intensity=0,\n",
    "    # the injection optics for this LHC lattice:\n",
    "    alpha_x=2.2,\n",
    "    beta_x=117,\n",
    "    dispersion_x=-0.41,\n",
    "    alpha_y=-2.7,\n",
    "    beta_y=218,\n",
    "    dispersion_y=-0.047,\n",
    "    **beam_kwargs,\n",
    ")"
   ]
  },
  {
   "cell_type": "markdown",
   "metadata": {
    "slideshow": {
     "slide_type": "slide"
    }
   },
   "source": [
    "# ... and transfer the bunch to `SixTrackLib`"
   ]
  },
  {
   "cell_type": "markdown",
   "metadata": {},
   "source": [
    "Initialise `SixTrackLib` particles object:"
   ]
  },
  {
   "cell_type": "code",
   "execution_count": 30,
   "metadata": {},
   "outputs": [],
   "source": [
    "stl_beam = stl.Particles.from_ref(\n",
    "    n_macroparticles, p0c=pyht_beam.p0 * c / e, \n",
    "    mass0=pyht_beam.mass * c**2 / e, q0=1)"
   ]
  },
  {
   "cell_type": "markdown",
   "metadata": {},
   "source": [
    "And transfer `PyHEADTAIL` bunch coordinate arrays:"
   ]
  },
  {
   "cell_type": "code",
   "execution_count": 31,
   "metadata": {},
   "outputs": [],
   "source": [
    "stl_beam.x[:] = pyht_beam.x\n",
    "stl_beam.px[:] = pyht_beam.xp\n",
    "stl_beam.y[:] = pyht_beam.y\n",
    "stl_beam.py[:] = pyht_beam.yp\n",
    "stl_beam.zeta[:] = pyht_beam.z\n",
    "stl_beam.delta[:] = pyht_beam.dp"
   ]
  },
  {
   "cell_type": "markdown",
   "metadata": {
    "slideshow": {
     "slide_type": "slide"
    }
   },
   "source": [
    "Actually, `SixTrackLib` particles hold a few more longitudinal coordinates just for convenience / rapid computation:"
   ]
  },
  {
   "cell_type": "code",
   "execution_count": 32,
   "metadata": {},
   "outputs": [],
   "source": [
    "p0 = pyht_beam.p0\n",
    "beta = pyht_beam.beta\n",
    "\n",
    "restmass = pyht_beam.mass * c**2\n",
    "restmass_sq = restmass**2\n",
    "E0 = np.sqrt((p0 * c)**2 + restmass_sq)\n",
    "p = p0 * (1 + pyht_beam.dp)\n",
    "E = np.sqrt((p * c)**2 + restmass_sq)\n",
    "\n",
    "gammai = E / restmass\n",
    "betai = np.sqrt(1 - 1. / (gammai * gammai))"
   ]
  },
  {
   "cell_type": "markdown",
   "metadata": {},
   "source": [
    "We also need to initialise them:"
   ]
  },
  {
   "cell_type": "code",
   "execution_count": 33,
   "metadata": {},
   "outputs": [],
   "source": [
    "stl_beam.rpp[:] = 1. / (pyht_beam.dp + 1)\n",
    "stl_beam.psigma[:] = (E - E0) / (beta * p0 * c)\n",
    "stl_beam.rvv[:] = betai / beta"
   ]
  },
  {
   "cell_type": "markdown",
   "metadata": {
    "slideshow": {
     "slide_type": "slide"
    }
   },
   "source": [
    "# Tracking in `SixTrackLib`"
   ]
  },
  {
   "cell_type": "markdown",
   "metadata": {},
   "source": [
    "With the accelerator lattice and the beam defined, go for trackjob:"
   ]
  },
  {
   "cell_type": "code",
   "execution_count": 34,
   "metadata": {},
   "outputs": [],
   "source": [
    "trackjob = stl.TrackJob(stl_ring_elements, stl_beam, device='opencl:1.0')"
   ]
  },
  {
   "cell_type": "code",
   "execution_count": 35,
   "metadata": {},
   "outputs": [],
   "source": [
    "trackjob.track_until(n_turns)\n",
    "trackjob.collect();"
   ]
  },
  {
   "cell_type": "markdown",
   "metadata": {},
   "source": [
    "$\\implies$ the kernel to track all turns through all elements is dispatched to the GPU with the `track_until` call"
   ]
  },
  {
   "cell_type": "markdown",
   "metadata": {
    "slideshow": {
     "slide_type": "slide"
    }
   },
   "source": [
    "# Collecting the output"
   ]
  },
  {
   "cell_type": "code",
   "execution_count": 36,
   "metadata": {},
   "outputs": [],
   "source": [
    "x = trackjob.output.particles[0].x\n",
    "sigma_x = np.std(x.reshape(n_turns, n_macroparticles), axis=1)"
   ]
  },
  {
   "cell_type": "code",
   "execution_count": 37,
   "metadata": {
    "scrolled": true
   },
   "outputs": [
    {
     "data": {
      "image/png": "[encoded data removed]",
      "text/plain": [
       "<Figure size 432x288 with 1 Axes>"
      ]
     },
     "metadata": {
      "needs_background": "light"
     },
     "output_type": "display_data"
    }
   ],
   "source": [
    "plt.plot(1e3 * sigma_x, lw=1)\n",
    "plt.xlabel('Turns')\n",
    "plt.ylabel('$\\sigma_x$ [mm]')\n",
    "plt.title('Horizontal beam size oscillation');"
   ]
  },
  {
   "cell_type": "markdown",
   "metadata": {},
   "source": [
    "$\\implies$ more complex kinetics than just a matrix ;-)"
   ]
  },
  {
   "cell_type": "markdown",
   "metadata": {
    "slideshow": {
     "slide_type": "slide"
    }
   },
   "source": [
    "# ... well &ndash; let's try to unify, shan't we?"
   ]
  },
  {
   "cell_type": "markdown",
   "metadata": {},
   "source": [
    "Integrating `SixTrackLib` tracking with wakefield kick from `PyHEADTAIL`"
   ]
  },
  {
   "cell_type": "markdown",
   "metadata": {
    "slideshow": {
     "slide_type": "-"
    }
   },
   "source": [
    "<center>\n",
    "<img src=\"images/transverse-model_integration.png\" alt=\"integrating PyHEADTAIL and SixTrackLib\" style=\"width:30%;\"/>\n",
    "Alternating SixTrackLib <span style=\"color:#00aad4;\">tracking</span> and PyHEADTAIL <span style=\"color:#aa0000;\">kicking</span>\n",
    "</center>"
   ]
  },
  {
   "cell_type": "markdown",
   "metadata": {
    "slideshow": {
     "slide_type": "slide"
    }
   },
   "source": [
    "# The \"starters\" menu\n",
    "\n",
    "1 turn $=$ `SixTrackLib` tracks complete ring + 1 `PyHEADTAIL` wakefield kick\n",
    "\n",
    "$\\implies$ flow control on python level (which library takes over when)\n",
    "\n",
    "<!--* use `PyHEADTAIL` approach: python list of elements (NB: overhead quite small compared to `element.track` calls)\n",
    "* utilise `SixTrackLib` API for tracking through all elements in one turn-->"
   ]
  },
  {
   "cell_type": "markdown",
   "metadata": {
    "slideshow": {
     "slide_type": "fragment"
    }
   },
   "source": [
    "### idea:\n",
    "\n",
    "```python\n",
    "for i in range(n_turns):\n",
    "    # SixTrackLib:\n",
    "    pyht_to_stl()\n",
    "    trackjob.track_until(i)\n",
    "    stl_to_pyht()\n",
    "    # PyHEADTAIL\n",
    "    wakefield.track(pyht_beam)\n",
    "```"
   ]
  },
  {
   "cell_type": "markdown",
   "metadata": {
    "slideshow": {
     "slide_type": "slide"
    }
   },
   "source": [
    "# Memory transfer\n",
    "\n",
    "So how to define `pyht_to_stl()` and `stl_to_pyht()`?\n",
    "\n",
    "Let's start with \n",
    "# A) `SixTrackLib` to `PyHEADTAIL`.\n",
    "\n",
    "$\\implies$ take a GPU memory pointer and construct a `PyCUDA.GPUArray`"
   ]
  },
  {
   "cell_type": "code",
   "execution_count": 38,
   "metadata": {},
   "outputs": [],
   "source": [
    "# fresh restart with PyCUDA\n",
    "driver.Context.pop()\n",
    "context = driver.Device(0).make_context()"
   ]
  },
  {
   "cell_type": "code",
   "execution_count": 39,
   "metadata": {},
   "outputs": [],
   "source": [
    "import pycuda.gpuarray as gp"
   ]
  },
  {
   "cell_type": "code",
   "execution_count": 40,
   "metadata": {},
   "outputs": [],
   "source": [
    "def provide_pycuda_array(gpu_ptr, length):\n",
    "    return gp.GPUArray(length, dtype=np.float64, gpudata=gpu_ptr)"
   ]
  },
  {
   "cell_type": "markdown",
   "metadata": {
    "slideshow": {
     "slide_type": "slide"
    }
   },
   "source": [
    "# Approach\n",
    "\n",
    "1. use `SixTrackLib`'s `CudaTrackJob` for the dedicated CUDA implementation $\\implies$ stay in CUDA in both codes (no openCL)\n",
    "2. prepare some GPU memory as an example in `SixTrackLib`\n",
    "3. build a `PyCUDA` array around this memory for `PyHEADTAIL`"
   ]
  },
  {
   "cell_type": "code",
   "execution_count": 41,
   "metadata": {
    "slideshow": {
     "slide_type": "fragment"
    }
   },
   "outputs": [],
   "source": [
    "stl_beam = stl.Particles.from_ref(n_macroparticles)"
   ]
  },
  {
   "cell_type": "code",
   "execution_count": 42,
   "metadata": {},
   "outputs": [
    {
     "data": {
      "text/plain": [
       "numpy.ndarray"
      ]
     },
     "execution_count": 42,
     "metadata": {},
     "output_type": "execute_result"
    }
   ],
   "source": [
    "type(stl_beam.x)"
   ]
  },
  {
   "cell_type": "code",
   "execution_count": 43,
   "metadata": {},
   "outputs": [],
   "source": [
    "stl_beam.x[:] = np.arange(0, 1, 1./n_macroparticles)"
   ]
  },
  {
   "cell_type": "code",
   "execution_count": 44,
   "metadata": {
    "slideshow": {
     "slide_type": "fragment"
    }
   },
   "outputs": [
    {
     "data": {
      "text/plain": [
       "array([0.   , 0.001, 0.002, 0.003, 0.004, 0.005, 0.006, 0.007, 0.008,\n",
       "       0.009])"
      ]
     },
     "execution_count": 44,
     "metadata": {},
     "output_type": "execute_result"
    }
   ],
   "source": [
    "stl_beam.x[:10]"
   ]
  },
  {
   "cell_type": "code",
   "execution_count": 45,
   "metadata": {
    "slideshow": {
     "slide_type": "slide"
    }
   },
   "outputs": [],
   "source": [
    "stl_ring_elements = stl.Elements.fromfile(\n",
    "    stl_dir + '/../../tests/testdata/lhc_no_bb/beam_elements.bin')\n",
    "\n",
    "# allocates GPU memory and fills it i.a. with the stl_beam.x array\n",
    "cuda_trackjob = stl.CudaTrackJob(stl_ring_elements, stl_beam)"
   ]
  },
  {
   "cell_type": "markdown",
   "metadata": {},
   "source": [
    "Retrieve location of `stl_beam.x` within particles buffer on GPU, i.e. memory pointer:"
   ]
  },
  {
   "cell_type": "code",
   "execution_count": 46,
   "metadata": {},
   "outputs": [],
   "source": [
    "cuda_trackjob.fetch_particle_addresses()\n",
    "ptrs = cuda_trackjob.get_particle_addresses()"
   ]
  },
  {
   "cell_type": "code",
   "execution_count": 47,
   "metadata": {},
   "outputs": [
    {
     "data": {
      "text/plain": [
       "140315499479216"
      ]
     },
     "execution_count": 47,
     "metadata": {},
     "output_type": "execute_result"
    }
   ],
   "source": [
    "ptrs.contents.x"
   ]
  },
  {
   "cell_type": "code",
   "execution_count": 48,
   "metadata": {
    "slideshow": {
     "slide_type": "slide"
    }
   },
   "outputs": [],
   "source": [
    "x_gpu = provide_pycuda_array(ptrs.contents.x, n_macroparticles)"
   ]
  },
  {
   "cell_type": "code",
   "execution_count": 49,
   "metadata": {},
   "outputs": [
    {
     "data": {
      "text/plain": [
       "array([0.   , 0.001, 0.002, 0.003, 0.004, 0.005, 0.006, 0.007, 0.008,\n",
       "       0.009])"
      ]
     },
     "execution_count": 49,
     "metadata": {},
     "output_type": "execute_result"
    }
   ],
   "source": [
    "x_gpu[:10]"
   ]
  },
  {
   "cell_type": "code",
   "execution_count": 50,
   "metadata": {},
   "outputs": [
    {
     "data": {
      "text/plain": [
       "pycuda.gpuarray.GPUArray"
      ]
     },
     "execution_count": 50,
     "metadata": {},
     "output_type": "execute_result"
    }
   ],
   "source": [
    "type(x_gpu)"
   ]
  },
  {
   "cell_type": "markdown",
   "metadata": {},
   "source": [
    "$\\implies$ cool, we can construct a `PyCUDA` array from GPU memory &ndash; allocated and filled through `SixTrackLib`!\n",
    "\n",
    "$\\implies$ direction `SixTrackLib` to `PyHEADTAIL` is covered!"
   ]
  },
  {
   "cell_type": "markdown",
   "metadata": {
    "slideshow": {
     "slide_type": "slide"
    }
   },
   "source": [
    "# B) `PyHEADTAIL` to `SixTrackLib`\n",
    "\n",
    "The `GPUArrays` constructed during a `PyHEADTAIL` `track` call need not be the same memory location as before:"
   ]
  },
  {
   "cell_type": "code",
   "execution_count": 51,
   "metadata": {},
   "outputs": [
    {
     "data": {
      "text/plain": [
       "array([1.      , 1.000001, 1.000004, 1.000009, 1.000016, 1.000025,\n",
       "       1.000036, 1.000049, 1.000064, 1.000081])"
      ]
     },
     "execution_count": 51,
     "metadata": {},
     "output_type": "execute_result"
    }
   ],
   "source": [
    "# simulate some tracking update:\n",
    "x_pyht_tracked = x_gpu**2 + 1\n",
    "x_pyht_tracked[:10]"
   ]
  },
  {
   "cell_type": "code",
   "execution_count": 52,
   "metadata": {
    "slideshow": {
     "slide_type": "-"
    }
   },
   "outputs": [
    {
     "data": {
      "text/plain": [
       "(140315499776000, 140315499479216)"
      ]
     },
     "execution_count": 52,
     "metadata": {},
     "output_type": "execute_result"
    }
   ],
   "source": [
    "assert int(x_pyht_tracked.gpudata) != int(x_gpu.gpudata)\n",
    "int(x_pyht_tracked.gpudata), int(x_gpu.gpudata)"
   ]
  },
  {
   "cell_type": "markdown",
   "metadata": {
    "slideshow": {
     "slide_type": "fragment"
    }
   },
   "source": [
    "$\\implies$ copy the data back into the fixed buffer in `SixTrackLib`!"
   ]
  },
  {
   "cell_type": "code",
   "execution_count": 53,
   "metadata": {},
   "outputs": [],
   "source": [
    "driver.memcpy_dtod(\n",
    "    dest=ptrs.contents.x, \n",
    "    src=x_pyht_tracked.gpudata,\n",
    "    size=x_pyht_tracked.nbytes\n",
    ")"
   ]
  },
  {
   "cell_type": "markdown",
   "metadata": {
    "slideshow": {
     "slide_type": "slide"
    }
   },
   "source": [
    "Let's check the buffer in `SixTrackLib` for the update:"
   ]
  },
  {
   "cell_type": "code",
   "execution_count": 54,
   "metadata": {},
   "outputs": [
    {
     "data": {
      "text/plain": [
       "array([1.      , 1.000001, 1.000004, 1.000009, 1.000016, 1.000025,\n",
       "       1.000036, 1.000049, 1.000064, 1.000081])"
      ]
     },
     "execution_count": 54,
     "metadata": {},
     "output_type": "execute_result"
    }
   ],
   "source": [
    "provide_pycuda_array(ptrs.contents.x, n_macroparticles)[:10]"
   ]
  },
  {
   "cell_type": "markdown",
   "metadata": {
    "slideshow": {
     "slide_type": "fragment"
    }
   },
   "source": [
    "Transfer data within SixTrackLib back to CPU:"
   ]
  },
  {
   "cell_type": "code",
   "execution_count": 55,
   "metadata": {
    "slideshow": {
     "slide_type": "-"
    }
   },
   "outputs": [
    {
     "data": {
      "text/plain": [
       "<sixtracklib.cuda.CudaTrackJob at 0x7f9f944f6ac8>"
      ]
     },
     "execution_count": 55,
     "metadata": {},
     "output_type": "execute_result"
    }
   ],
   "source": [
    "cuda_trackjob.collect_particles()"
   ]
  },
  {
   "cell_type": "code",
   "execution_count": 56,
   "metadata": {},
   "outputs": [
    {
     "data": {
      "text/plain": [
       "(array([1.      , 1.000001, 1.000004, 1.000009, 1.000016, 1.000025,\n",
       "        1.000036, 1.000049, 1.000064, 1.000081]), numpy.ndarray)"
      ]
     },
     "execution_count": 56,
     "metadata": {},
     "output_type": "execute_result"
    }
   ],
   "source": [
    "stl_beam.x[:10], type(stl_beam.x)"
   ]
  },
  {
   "cell_type": "markdown",
   "metadata": {},
   "source": [
    "$\\implies$ indeed, the buffer has been filled with the updated values of `x`!\n",
    "\n",
    "And we can collect the updated data back to the CPU memory from the GPU device!"
   ]
  },
  {
   "cell_type": "markdown",
   "metadata": {
    "slideshow": {
     "slide_type": "slide"
    }
   },
   "source": [
    "# Finally &ndash; let's plug everything together!"
   ]
  },
  {
   "cell_type": "markdown",
   "metadata": {},
   "source": [
    "Please: restart the notebook kernel to avoid the CUDA context mess."
   ]
  },
  {
   "cell_type": "code",
   "execution_count": 1,
   "metadata": {
    "slideshow": {
     "slide_type": "slide"
    }
   },
   "outputs": [
    {
     "name": "stdout",
     "output_type": "stream",
     "text": [
      "PyHEADTAIL v1.14.1.21\n",
      "\n",
      "\n"
     ]
    }
   ],
   "source": [
    "from imports import *\n",
    "\n",
    "from pycuda.autoinit import context\n",
    "from pycuda import driver\n",
    "import pycuda.gpuarray as gp\n",
    "\n",
    "from PyHEADTAIL.general.contextmanager import GPU\n",
    "from PyHEADTAIL.general import pmath\n",
    "from PyHEADTAIL.impedances.wakes import WakeField, CircularResonator\n",
    "from PyHEADTAIL.particles.slicing import UniformBinSlicer\n",
    "import pyht_streamless_slicing\n",
    "from PyHEADTAIL.particles.generators import generate_Gaussian6DTwiss\n",
    "\n",
    "import sixtracklib as stl\n",
    "\n",
    "import os\n",
    "stl_dir = os.path.dirname(stl.__file__)\n",
    "\n",
    "from pyheadtail_setup import beam_kwargs\n",
    "from scipy.constants import m_p, c, e\n",
    "\n",
    "def provide_pycuda_array(gpu_ptr, length):\n",
    "    return gp.GPUArray(length, dtype=np.float64, gpudata=gpu_ptr)"
   ]
  },
  {
   "cell_type": "markdown",
   "metadata": {
    "slideshow": {
     "slide_type": "slide"
    }
   },
   "source": [
    "## The beam (containers):"
   ]
  },
  {
   "cell_type": "code",
   "execution_count": 2,
   "metadata": {},
   "outputs": [],
   "source": [
    "n_macroparticles = 10000\n",
    "intensity = 1e11 * 50\n",
    "\n",
    "np.random.seed(0)\n",
    "\n",
    "pyht_beam = generate_Gaussian6DTwiss(\n",
    "    macroparticlenumber=n_macroparticles,\n",
    "    intensity=intensity,\n",
    "    # the injection optics for this LHC lattice:\n",
    "    alpha_x=2.2,\n",
    "    beta_x=117,\n",
    "    dispersion_x=-0.41,\n",
    "    alpha_y=-2.7,\n",
    "    beta_y=218,\n",
    "    dispersion_y=-0.047,\n",
    "    **beam_kwargs,\n",
    ")"
   ]
  },
  {
   "cell_type": "code",
   "execution_count": 3,
   "metadata": {},
   "outputs": [],
   "source": [
    "stl_beam = stl.Particles.from_ref(\n",
    "    n_macroparticles, p0c=pyht_beam.p0 * c / e, \n",
    "    mass0=pyht_beam.mass * c**2 / e, q0=1)"
   ]
  },
  {
   "cell_type": "markdown",
   "metadata": {
    "slideshow": {
     "slide_type": "slide"
    }
   },
   "source": [
    "## The accelerator:"
   ]
  },
  {
   "cell_type": "code",
   "execution_count": 4,
   "metadata": {},
   "outputs": [],
   "source": [
    "# SixTrackLib tracking part:\n",
    "stl_ring_elements = stl.Elements.fromfile(\n",
    "    stl_dir + '/../../tests/testdata/lhc_no_bb/beam_elements.bin')\n",
    "\n",
    "cuda_trackjob = stl.CudaTrackJob(stl_ring_elements, stl_beam)"
   ]
  },
  {
   "cell_type": "code",
   "execution_count": 5,
   "metadata": {},
   "outputs": [],
   "source": [
    "# PyHEADTAIL wakefield kick part:\n",
    "slicer = UniformBinSlicer(n_slices=50, n_sigma_z=4)\n",
    "resonator_wake = CircularResonator(R_shunt=100e6, frequency=0.8e9, Q=1)\n",
    "wakefield = WakeField(slicer, resonator_wake)"
   ]
  },
  {
   "cell_type": "markdown",
   "metadata": {
    "slideshow": {
     "slide_type": "slide"
    }
   },
   "source": [
    "## Preparation for the GPU device data transfers:"
   ]
  },
  {
   "cell_type": "markdown",
   "metadata": {},
   "source": [
    "Storing the `SixTrackLib` buffer pointers:"
   ]
  },
  {
   "cell_type": "code",
   "execution_count": 6,
   "metadata": {},
   "outputs": [],
   "source": [
    "cuda_trackjob.fetch_particle_addresses()\n",
    "ptrs = cuda_trackjob.get_particle_addresses()\n",
    "\n",
    "pointers = {\n",
    "    'x': provide_pycuda_array(ptrs.contents.x, n_macroparticles),\n",
    "    'px': provide_pycuda_array(ptrs.contents.px, n_macroparticles),\n",
    "    'y': provide_pycuda_array(ptrs.contents.y, n_macroparticles),\n",
    "    'py': provide_pycuda_array(ptrs.contents.py, n_macroparticles),\n",
    "    'z': provide_pycuda_array(ptrs.contents.zeta, n_macroparticles),\n",
    "    'delta': provide_pycuda_array(ptrs.contents.delta, n_macroparticles),\n",
    "    'rpp': provide_pycuda_array(ptrs.contents.rpp, n_macroparticles),\n",
    "    'psigma': provide_pycuda_array(ptrs.contents.psigma, n_macroparticles),\n",
    "    'rvv': provide_pycuda_array(ptrs.contents.rvv, n_macroparticles),\n",
    "}"
   ]
  },
  {
   "cell_type": "code",
   "execution_count": 7,
   "metadata": {},
   "outputs": [],
   "source": [
    "def memcpy(dest, src):\n",
    "    '''Device memory copy from GPUArray src to GPUArray dest.'''\n",
    "    driver.memcpy_dtod_async(dest.gpudata, src.gpudata, src.nbytes)"
   ]
  },
  {
   "cell_type": "markdown",
   "metadata": {
    "slideshow": {
     "slide_type": "slide"
    }
   },
   "source": [
    "Function for `PyHEADTAIL` to `SixTrackLib` memory transfer:"
   ]
  },
  {
   "cell_type": "code",
   "execution_count": 8,
   "metadata": {
    "slideshow": {
     "slide_type": "-"
    }
   },
   "outputs": [],
   "source": [
    "from pycuda import cumath\n",
    "\n",
    "def pyht_to_stl(pyht_beam):\n",
    "    memcpy(pointers['x'], pyht_beam.x)\n",
    "    memcpy(pointers['px'], pyht_beam.xp)\n",
    "    memcpy(pointers['y'], pyht_beam.y)\n",
    "    memcpy(pointers['py'], pyht_beam.yp)\n",
    "    memcpy(pointers['z'], pyht_beam.z)\n",
    "    memcpy(pointers['delta'], pyht_beam.dp)\n",
    "\n",
    "    # further longitudinal coordinates of SixTrackLib\n",
    "    rpp = 1. / (pyht_beam.dp + 1)\n",
    "\n",
    "    restmass = pyht_beam.mass * c**2\n",
    "    restmass_sq = restmass**2\n",
    "    E0 = np.sqrt((pyht_beam.p0 * c)**2 + restmass_sq)\n",
    "    p = pyht_beam.p0 * (1 + pyht_beam.dp)\n",
    "    E = cumath.sqrt((p * c) * (p * c) + restmass_sq)\n",
    "    psigma =  (E - E0) / (pyht_beam.beta * pyht_beam.p0 * c)\n",
    "\n",
    "    gamma = E / restmass\n",
    "    beta = cumath.sqrt(1 - 1. / (gamma * gamma))\n",
    "    rvv = beta / pyht_beam.beta\n",
    "\n",
    "    memcpy(pointers['rpp'], rpp)\n",
    "    memcpy(pointers['psigma'], psigma)\n",
    "    memcpy(pointers['rvv'], rvv)\n",
    "    \n",
    "    # PyCUDA context:\n",
    "    context.synchronize()"
   ]
  },
  {
   "cell_type": "markdown",
   "metadata": {
    "slideshow": {
     "slide_type": "slide"
    }
   },
   "source": [
    "Function for `SixTrackLib` to `PyHEADTAIL` memory transfer:"
   ]
  },
  {
   "cell_type": "code",
   "execution_count": 9,
   "metadata": {},
   "outputs": [],
   "source": [
    "def stl_to_pyht(pyht_beam):\n",
    "    # barrier to make sure any previous\n",
    "    # SixTrackLib kernels have finished \n",
    "    cuda_trackjob.collect()\n",
    "    \n",
    "    pyht_beam.x = pointers['x']\n",
    "    pyht_beam.xp = pointers['px']\n",
    "    pyht_beam.y = pointers['y']\n",
    "    pyht_beam.yp = pointers['py']\n",
    "    pyht_beam.z = pointers['z']\n",
    "    pyht_beam.dp = pointers['delta']"
   ]
  },
  {
   "cell_type": "markdown",
   "metadata": {
    "slideshow": {
     "slide_type": "slide"
    }
   },
   "source": [
    "## Ready for tracking:"
   ]
  },
  {
   "cell_type": "code",
   "execution_count": 10,
   "metadata": {
    "scrolled": true
   },
   "outputs": [],
   "source": [
    "n_turns = 11\n",
    "\n",
    "with GPU(pyht_beam):\n",
    "    my = pmath.zeros(n_turns, dtype=float)\n",
    "    \n",
    "    for i in range(n_turns):\n",
    "        # SixTrackLib:\n",
    "        pyht_to_stl(pyht_beam)\n",
    "        cuda_trackjob.track_until(i)\n",
    "        stl_to_pyht(pyht_beam)\n",
    "        # PyHEADTAIL\n",
    "        wakefield.track(pyht_beam)\n",
    "        \n",
    "        # record vertical bunch centroid amplitude\n",
    "        my[i] = pyht_beam.mean_y()"
   ]
  },
  {
   "cell_type": "code",
   "execution_count": 11,
   "metadata": {},
   "outputs": [],
   "source": [
    "my = pmath.ensure_CPU(my)"
   ]
  },
  {
   "cell_type": "markdown",
   "metadata": {
    "slideshow": {
     "slide_type": "slide"
    }
   },
   "source": [
    "# Simulation Results\n",
    "\n",
    "$\\implies$ strong instability, this time with realistic lattice:"
   ]
  },
  {
   "cell_type": "code",
   "execution_count": 12,
   "metadata": {},
   "outputs": [
    {
     "data": {
      "image/png": "[encoded data removed]",
      "text/plain": [
       "<Figure size 432x288 with 1 Axes>"
      ]
     },
     "metadata": {
      "needs_background": "light"
     },
     "output_type": "display_data"
    }
   ],
   "source": [
    "plt.plot(my * 1e3)\n",
    "plt.xlabel('Turns')\n",
    "plt.ylabel(r'$\\langle y \\rangle$ [mm]')\n",
    "plt.title('Vertical bunch centroid motion');"
   ]
  },
  {
   "cell_type": "markdown",
   "metadata": {
    "slideshow": {
     "slide_type": "slide"
    }
   },
   "source": [
    "Along with the same type of displacement pattern along the bunch:"
   ]
  },
  {
   "cell_type": "code",
   "execution_count": 14,
   "metadata": {
    "slideshow": {
     "slide_type": "-"
    }
   },
   "outputs": [
    {
     "data": {
      "image/png": "[encoded data removed]",
      "text/plain": [
       "<Figure size 432x288 with 1 Axes>"
      ]
     },
     "metadata": {
      "needs_background": "light"
     },
     "output_type": "display_data"
    }
   ],
   "source": [
    "slices = pyht_beam.get_slices(slicer, statistics=True)\n",
    "plt.plot(slices.z_centers, slices.mean_y * slices.n_macroparticles_per_slice)\n",
    "plt.xlabel('$z$ [m]')\n",
    "plt.ylabel('BPM signal')\n",
    "plt.title('Vertical intra-bunch motion');"
   ]
  },
  {
   "cell_type": "markdown",
   "metadata": {
    "slideshow": {
     "slide_type": "slide"
    }
   },
   "source": [
    "# ... Summary!"
   ]
  },
  {
   "cell_type": "code",
   "execution_count": null,
   "metadata": {},
   "outputs": [],
   "source": []
  }
 ],
 "metadata": {
  "celltoolbar": "Slideshow",
  "kernelspec": {
   "display_name": "Python 3",
   "language": "python",
   "name": "python3"
  },
  "language_info": {
   "codemirror_mode": {
    "name": "ipython",
    "version": 3
   },
   "file_extension": ".py",
   "mimetype": "text/x-python",
   "name": "python",
   "nbconvert_exporter": "python",
   "pygments_lexer": "ipython3",
   "version": "3.7.3"
  },
  "rise": {
   "scroll": true
  }
 },
 "nbformat": 4,
 "nbformat_minor": 2
}
