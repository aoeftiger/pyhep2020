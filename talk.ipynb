{
 "cells": [
  {
   "cell_type": "markdown",
   "metadata": {
    "slideshow": {
     "slide_type": "slide"
    }
   },
   "source": [
    "# Integrating GPU libraries for fun and profit\n",
    "\n",
    "### ...on extending and interfacing HPC simulation tools\n",
    "\n",
    "##### Authors: Adrian Oeftiger and Martin Schwinzerl"
   ]
  },
  {
   "cell_type": "markdown",
   "metadata": {
    "slideshow": {
     "slide_type": "slide"
    }
   },
   "source": [
    "# Abstract\n",
    "\n",
    "I have a high-performance number crunching tool with cool physics which simulates long-term on a GPU &ndash; how can I extend the inner loop by further cool physics, injected from the outside?\n",
    "In python this should be easy, right? But wait... we are sitting on device memory?\n",
    "\n",
    "In this talk we explore how to tightly couple two libraries for high-performance computation of long-term beam dynamics, `SixTrackLib` and `PyHEADTAIL`. How can we design the _interface_ between both libraries in terms of\n",
    "\n",
    "(1) remaining on the python level,\n",
    "\n",
    "(2) avoid losing performance due to device-to-host-to-device copies, and\n",
    "\n",
    "(3) keeping both libraries as stand-alone packages?\n",
    "\n",
    "The interface can be surprisingly simple, yet fully fledged... Let's go!"
   ]
  },
  {
   "cell_type": "markdown",
   "metadata": {
    "slideshow": {
     "slide_type": "slide"
    }
   },
   "source": [
    "# ... the Physics ..."
   ]
  },
  {
   "cell_type": "markdown",
   "metadata": {
    "slideshow": {
     "slide_type": "slide"
    }
   },
   "source": [
    "# Collective beam dynamics\n",
    "\n",
    "3D particle motion $\\leadsto$ 6 phase space coordinates:\n",
    "$$\\mathbb{X}=(\\underbrace{x, x'\\vphantom{y'}}_{horizontal}, \\underbrace{y, y'}_{vertical}, \\underbrace{z, \\delta\\vphantom{y'}}_{longitudinal})$$\n",
    "\n",
    "A beam $=$ state of $N$ macro-particles $=$ $6N$ values of phase space coordinates"
   ]
  },
  {
   "cell_type": "markdown",
   "metadata": {
    "slideshow": {
     "slide_type": "fragment"
    }
   },
   "source": [
    "## Simulations:\n",
    "* typically up to $\\mathcal{O}(10^6)$ macro-particles\n",
    "* accelerator elements to track through: up to $\\mathcal{O}(1000)$\n",
    "* simulations can last up to $\\mathcal{O}(10^6)$ turns \n",
    "* particle-to-particle interaction: binning, FFT, convolution, particle-in-cell, Poisson solvers"
   ]
  },
  {
   "cell_type": "markdown",
   "metadata": {
    "slideshow": {
     "slide_type": "slide"
    }
   },
   "source": [
    "# Requirements for simulation tools\n",
    "\n",
    "* long-term evolution $\\leadsto$ **double precision**\n",
    "* heavy **number crunching** $\\leadsto$ high-performance computing (**HPC**)<br />(in particular for _collective effects_ i.e. particle-to-particle interaction)\n",
    "* **iterative development**, frequent update of accelerator models $\\leadsto$ python"
   ]
  },
  {
   "cell_type": "markdown",
   "metadata": {
    "slideshow": {
     "slide_type": "slide"
    }
   },
   "source": [
    "# Single-particle vs. multi-particle dynamics\n",
    "\n",
    "**single-particle** $\\implies$ <span style=\"color:#00aad4;\">\"tracking\"</span>: particle motion due to external focusing (magnets and RF cavities)\n",
    "\n",
    "**multi-particle** $\\implies$ <span style=\"color:#aa0000;\">\"collective effect kicks\"</span>: direct and indirect particle-to-particle interaction\n",
    "\n",
    "<center>\n",
    "<img src=\"images/transverse-model_empty.png\" alt=\"sketch of one-turn map for ring\" style=\"width:30%;\"/>\n",
    "Tracking around the accelerator ring\n",
    "</center>"
   ]
  },
  {
   "cell_type": "markdown",
   "metadata": {
    "slideshow": {
     "slide_type": "slide"
    }
   },
   "source": [
    "# The `PyHEADTAIL` library\n",
    "\n",
    "Python based code for simulating collective beam dynamics: [github repo $\\nearrow$](https://github.com/PyCOMPLETE/PyHEADTAIL)\n",
    "\n",
    "$\\implies$ simplified matrix-based <span style=\"color:#00aad4;\">tracking</span>\n",
    "\n",
    "$\\implies$ **strong:** detailed models for <span style=\"color:#aa0000;\">collective effect kicks</span>\n",
    "\n",
    "<center>\n",
    "<img src=\"images/wakefield.png\" alt=\"wake field sketch\" style=\"width:30%;\"/>\n",
    "Example for a kick: wakefield induced by leading particles imparting kicks on trailing particles\n",
    "</center>"
   ]
  },
  {
   "cell_type": "markdown",
   "metadata": {
    "slideshow": {
     "slide_type": "slide"
    }
   },
   "source": [
    "# The `SixTrackLib` library\n",
    "\n",
    "C templated code with Python API for simulating single-particle beam dynamics: [github repo $\\nearrow$](https://github.com/sixtrack/sixtracklib)\n",
    "\n",
    "$\\implies$ **strong:** advanced non-linear <span style=\"color:#00aad4;\">tracking</span>\n",
    "\n",
    "$\\implies$ approximative / simplified models for <span style=\"color:#aa0000;\">collective effect kicks</span>\n",
    "\n",
    "<center>\n",
    "<img src=\"images/tracking.png\" alt=\"tracking sketch\" style=\"width:30%;\"/>\n",
    "Example for tracking: <span style=\"color:#ff6701;\">dipole magnets bend</span> and <span style=\"color:#800000;\">quadrupole magnets (de-)</span><span style=\"color:#000080;\">focus</span> particles\n",
    "</center>"
   ]
  },
  {
   "cell_type": "markdown",
   "metadata": {
    "slideshow": {
     "slide_type": "slide"
    }
   },
   "source": [
    "# ... the HPC part ..."
   ]
  },
  {
   "cell_type": "markdown",
   "metadata": {
    "slideshow": {
     "slide_type": "slide"
    }
   },
   "source": [
    "# `PyHEADTAIL` on the GPU\n",
    "\n",
    "[Concept presented on PyHEP'19 $\\nearrow$](https://indico.cern.ch/event/833895/contributions/3577801/), in short:\n",
    "\n",
    "<div style=\"float: right; width: 10%\">\n",
    "<img src=\"images/duck.png\" alt=\"duck typing\" style=\"width: 100%;\" /> <br />\n",
    "<!-- <img src=\"pycuda-logo2.png\" alt=\"PyCUDA logo\" style=\"width: 100%;\" /> -->\n",
    "</div>\n",
    "\n",
    "* utilise **duck typing** to separate physics from back-end implementation\n",
    "* sandwich layer via **context management** and **function redirection**<br />(math dictionaries)\n",
    "* exploit GPU via `PyCUDA` (`CuPy` would work similarly)"
   ]
  },
  {
   "cell_type": "code",
   "execution_count": null,
   "metadata": {},
   "outputs": [],
   "source": [
    "# tracking loop in PyHEADTAIL:\n",
    "with GPU(pyht_beam):\n",
    "    for i in range(n_turns):\n",
    "        for element in pyht_ring_elements:\n",
    "            element.track(pyht_beam)"
   ]
  },
  {
   "cell_type": "markdown",
   "metadata": {},
   "source": [
    "$\\implies$ implement physics only once! <br />\n",
    "$\\implies$ back-end details transparent to users / high-level developers"
   ]
  },
  {
   "cell_type": "markdown",
   "metadata": {
    "slideshow": {
     "slide_type": "slide"
    }
   },
   "source": [
    "# `SixTrackLib` on the GPU\n",
    "\n",
    "[Concept presented on PyHEP'19 $\\nearrow$](https://indico.cern.ch/event/833895/contributions/3577803/), in short:\n",
    "\n",
    "* Python API for dynamic interaction\n",
    "* C **templating approach** to separate physics from back-end implementation\n",
    "    * implementation in usual C for (single-core) CPU\n",
    "    * implementation in openCL for multi-core CPU and GPU (AMD, NVIDIA)\n",
    "    * implementation in CUDA for NVIDIA GPUs"
   ]
  },
  {
   "cell_type": "code",
   "execution_count": null,
   "metadata": {},
   "outputs": [],
   "source": [
    "# tracking kernel in SixTrackLib\n",
    "trackjob = stl.TrackJob(stl_ring_elements, stl_beam, device='opencl:0.0')\n",
    "trackjob.track_until(n_turns)"
   ]
  },
  {
   "cell_type": "markdown",
   "metadata": {},
   "source": [
    "$\\implies$ implement physics only once! <br />\n",
    "$\\implies$ users launch \"trackjobs\" with just a single `device` keyword to switch architecture"
   ]
  },
  {
   "cell_type": "markdown",
   "metadata": {
    "slideshow": {
     "slide_type": "slide"
    }
   },
   "source": [
    "# ... the quest ..."
   ]
  },
  {
   "cell_type": "markdown",
   "metadata": {
    "slideshow": {
     "slide_type": "slide"
    }
   },
   "source": [
    "# `SixTrackLib` $+$ `PyHEADTAIL` $=$ <3 ?\n",
    "\n",
    "`SixTrackLib` $\\rightarrow$ strong in advanced non-linear <span style=\"color:#00aad4;\">tracking</span>\n",
    "\n",
    "`PyHEADTAIL` $\\rightarrow$ strong in <span style=\"color:#aa0000;\">collective effect kicks</span>\n",
    "\n",
    "$\\implies$ `SixTrackLib` $+$ `PyHEADTAIL` $=$ strong in both?"
   ]
  },
  {
   "cell_type": "markdown",
   "metadata": {
    "slideshow": {
     "slide_type": "fragment"
    }
   },
   "source": [
    "<center>\n",
    "<img src=\"images/transverse-model_integration.png\" alt=\"integrating PyHEADTAIL and SixTrackLib\" style=\"width:30%;\"/>\n",
    "Alternating SixTrackLib <span style=\"color:#00aad4;\">tracking</span> and PyHEADTAIL <span style=\"color:#aa0000;\">kicking</span>\n",
    "</center>"
   ]
  },
  {
   "cell_type": "markdown",
   "metadata": {
    "slideshow": {
     "slide_type": "slide"
    }
   },
   "source": [
    "# ... the quest*ions* ..."
   ]
  },
  {
   "cell_type": "markdown",
   "metadata": {
    "slideshow": {
     "slide_type": "slide"
    }
   },
   "source": [
    "Situation:\n",
    "* `PyHEADTAIL` on the GPU lives in `PyCUDA`, managed from user script\n",
    "* `SixTrackLib` on the GPU manages its CUDA kernel invocation by itself\n",
    "* beam state data: <br />`PyHEADTAIL` uses `PyCUDA.GPUArrays` while `SixTrackLib` uses custom memory buffers\n",
    "\n",
    "Critical aspects:\n",
    "* how to avoid GPU - CPU - GPU memory transfer?\n",
    "* how to hand over the data between the two codes?\n",
    "* can `PyHEADTAIL`'s `PyCUDA` context interact with `SixTrackLib`'s initialised context? \n",
    "    * visibility of memory to each other\n",
    "    * alternating kernel calls?\n",
    "    * flow control from python level?"
   ]
  },
  {
   "cell_type": "markdown",
   "metadata": {
    "slideshow": {
     "slide_type": "slide"
    }
   },
   "source": [
    "# ... well &ndash; let's try to unify, shan't we?"
   ]
  },
  {
   "cell_type": "markdown",
   "metadata": {
    "slideshow": {
     "slide_type": "slide"
    }
   },
   "source": [
    "Importing SixTrackLib:"
   ]
  },
  {
   "cell_type": "code",
   "execution_count": 1,
   "metadata": {
    "slideshow": {
     "slide_type": "-"
    }
   },
   "outputs": [
    {
     "name": "stdout",
     "output_type": "stream",
     "text": [
      "SixTrackLib commit f42c420da20602c9c4c08172338ed3019bb20d25\r\n"
     ]
    }
   ],
   "source": [
    "import sixtracklib as stl\n",
    "\n",
    "# print current commit\n",
    "import os\n",
    "stl_dir = os.path.dirname(stl.__file__)\n",
    "!printf \"SixTrackLib \" && cd $stl_dir && git log | head -1"
   ]
  },
  {
   "cell_type": "markdown",
   "metadata": {},
   "source": [
    "Importing PyHEADTAIL:"
   ]
  },
  {
   "cell_type": "code",
   "execution_count": 2,
   "metadata": {
    "slideshow": {
     "slide_type": "-"
    }
   },
   "outputs": [
    {
     "name": "stdout",
     "output_type": "stream",
     "text": [
      "PyHEADTAIL v1.14.1.7\n",
      "\n",
      "\n"
     ]
    }
   ],
   "source": [
    "import sys\n",
    "sys.path = ['/home/oeftiger/gsi/git/PyHEADTAIL/'] + sys.path\n",
    "\n",
    "import PyHEADTAIL"
   ]
  }
 ],
 "metadata": {
  "celltoolbar": "Slideshow",
  "kernelspec": {
   "display_name": "Python 3",
   "language": "python",
   "name": "python3"
  },
  "language_info": {
   "codemirror_mode": {
    "name": "ipython",
    "version": 3
   },
   "file_extension": ".py",
   "mimetype": "text/x-python",
   "name": "python",
   "nbconvert_exporter": "python",
   "pygments_lexer": "ipython3",
   "version": "3.7.3"
  }
 },
 "nbformat": 4,
 "nbformat_minor": 2
}
